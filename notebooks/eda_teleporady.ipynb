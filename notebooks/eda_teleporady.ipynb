{
 "cells": [
  {
   "cell_type": "code",
   "execution_count": 23,
   "metadata": {},
   "outputs": [],
   "source": [
    "import sys\n",
    "from pathlib import Path\n",
    "import pandas as pd\n",
    "\n",
    "# Add project root to Python path\n",
    "project_root = Path.cwd().parent\n",
    "if str(project_root) not in sys.path:\n",
    "    sys.path.append(str(project_root))\n",
    "\n",
    "# Import project paths\n",
    "from src.helpers.config import DATA_DIR\n",
    "from src.helpers.utils import (\n",
    "    get_files_paths,\n",
    "    filter_dataframe,\n",
    "    analyze_dataframe,\n",
    "    write_csv,\n",
    "    fill_missing_values_based_on_column_mapping,\n",
    ")"
   ]
  },
  {
   "cell_type": "markdown",
   "metadata": {},
   "source": [
    "# Load dataframe"
   ]
  },
  {
   "cell_type": "code",
   "execution_count": 24,
   "metadata": {},
   "outputs": [],
   "source": [
    "dataset_name = \"teleporady\""
   ]
  },
  {
   "cell_type": "code",
   "execution_count": 25,
   "metadata": {},
   "outputs": [
    {
     "data": {
      "text/plain": [
       "['c:\\\\Users\\\\huber\\\\OneDrive\\\\Dokumenty\\\\GitHub\\\\mz_raport\\\\data\\\\raw\\\\teleporady\\\\teleporady.csv']"
      ]
     },
     "execution_count": 25,
     "metadata": {},
     "output_type": "execute_result"
    }
   ],
   "source": [
    "file_paths = get_files_paths(Path(DATA_DIR / \"raw\"), dataset_name, \"csv\")\n",
    "file_paths"
   ]
  },
  {
   "cell_type": "code",
   "execution_count": 26,
   "metadata": {},
   "outputs": [
    {
     "data": {
      "text/plain": [
       "'c:\\\\Users\\\\huber\\\\OneDrive\\\\Dokumenty\\\\GitHub\\\\mz_raport\\\\data\\\\raw\\\\teleporady\\\\teleporady.csv'"
      ]
     },
     "execution_count": 26,
     "metadata": {},
     "output_type": "execute_result"
    }
   ],
   "source": [
    "file_path = file_paths[0]\n",
    "file_path"
   ]
  },
  {
   "cell_type": "code",
   "execution_count": 27,
   "metadata": {},
   "outputs": [
    {
     "data": {
      "text/html": [
       "<div>\n",
       "<style scoped>\n",
       "    .dataframe tbody tr th:only-of-type {\n",
       "        vertical-align: middle;\n",
       "    }\n",
       "\n",
       "    .dataframe tbody tr th {\n",
       "        vertical-align: top;\n",
       "    }\n",
       "\n",
       "    .dataframe thead th {\n",
       "        text-align: right;\n",
       "    }\n",
       "</style>\n",
       "<table border=\"1\" class=\"dataframe\">\n",
       "  <thead>\n",
       "    <tr style=\"text-align: right;\">\n",
       "      <th></th>\n",
       "      <th>Nazwa świadczeniodawcy</th>\n",
       "      <th>Województwo</th>\n",
       "      <th>Powiat</th>\n",
       "      <th>Gmina</th>\n",
       "      <th>Specjalność komórki</th>\n",
       "      <th>Miesiąc</th>\n",
       "      <th>Rok</th>\n",
       "      <th>Kod ICD-10 poziom 3.</th>\n",
       "      <th>Nazwa ICD-10 poziom 3.</th>\n",
       "      <th>Kod ICD-10 poziom 2.</th>\n",
       "      <th>Nazwa ICD-10 poziom 2.</th>\n",
       "      <th>Kod ICD-10 poziom 1.</th>\n",
       "      <th>Nazwa ICD-10 poziom 1.</th>\n",
       "      <th>Liczba wszystkich porad AOS</th>\n",
       "      <th>Liczba teleporad AOS</th>\n",
       "    </tr>\n",
       "  </thead>\n",
       "  <tbody>\n",
       "    <tr>\n",
       "      <th>0</th>\n",
       "      <td>105 Kresowy Szpital Wojskowy Z Przychodnią sp....</td>\n",
       "      <td>dolnośląskie</td>\n",
       "      <td>bolesławiecki</td>\n",
       "      <td>Osiecznica</td>\n",
       "      <td>poradnia położniczo-ginekologiczna</td>\n",
       "      <td>1</td>\n",
       "      <td>2021</td>\n",
       "      <td>D25</td>\n",
       "      <td>Mięśniak gładkokomórkowy macicy</td>\n",
       "      <td>D10-D36</td>\n",
       "      <td>Nowotwory niezłośliwe</td>\n",
       "      <td>C00-D48</td>\n",
       "      <td>Nowotwory</td>\n",
       "      <td>1</td>\n",
       "      <td>0</td>\n",
       "    </tr>\n",
       "    <tr>\n",
       "      <th>1</th>\n",
       "      <td>105 Kresowy Szpital Wojskowy Z Przychodnią sp....</td>\n",
       "      <td>dolnośląskie</td>\n",
       "      <td>bolesławiecki</td>\n",
       "      <td>Osiecznica</td>\n",
       "      <td>poradnia położniczo-ginekologiczna</td>\n",
       "      <td>1</td>\n",
       "      <td>2021</td>\n",
       "      <td>N30</td>\n",
       "      <td>Zapalenie pęcherza moczowego</td>\n",
       "      <td>N30-N39</td>\n",
       "      <td>Inne choroby układu moczowego</td>\n",
       "      <td>N00-N99</td>\n",
       "      <td>Choroby układu moczowo-płciowego</td>\n",
       "      <td>1</td>\n",
       "      <td>0</td>\n",
       "    </tr>\n",
       "  </tbody>\n",
       "</table>\n",
       "</div>"
      ],
      "text/plain": [
       "                              Nazwa świadczeniodawcy   Województwo  \\\n",
       "0  105 Kresowy Szpital Wojskowy Z Przychodnią sp....  dolnośląskie   \n",
       "1  105 Kresowy Szpital Wojskowy Z Przychodnią sp....  dolnośląskie   \n",
       "\n",
       "          Powiat       Gmina                 Specjalność komórki  Miesiąc  \\\n",
       "0  bolesławiecki  Osiecznica  poradnia położniczo-ginekologiczna        1   \n",
       "1  bolesławiecki  Osiecznica  poradnia położniczo-ginekologiczna        1   \n",
       "\n",
       "    Rok Kod ICD-10 poziom 3.           Nazwa ICD-10 poziom 3.  \\\n",
       "0  2021                  D25  Mięśniak gładkokomórkowy macicy   \n",
       "1  2021                  N30     Zapalenie pęcherza moczowego   \n",
       "\n",
       "  Kod ICD-10 poziom 2.         Nazwa ICD-10 poziom 2. Kod ICD-10 poziom 1.  \\\n",
       "0              D10-D36          Nowotwory niezłośliwe              C00-D48   \n",
       "1              N30-N39  Inne choroby układu moczowego              N00-N99   \n",
       "\n",
       "             Nazwa ICD-10 poziom 1.  Liczba wszystkich porad AOS  \\\n",
       "0                         Nowotwory                            1   \n",
       "1  Choroby układu moczowo-płciowego                            1   \n",
       "\n",
       "   Liczba teleporad AOS  \n",
       "0                     0  \n",
       "1                     0  "
      ]
     },
     "execution_count": 27,
     "metadata": {},
     "output_type": "execute_result"
    }
   ],
   "source": [
    "# Read only the first 10 rows to inspect column names\n",
    "df_preview = pd.read_csv(file_path, nrows=2)\n",
    "df_preview"
   ]
  },
  {
   "cell_type": "code",
   "execution_count": 28,
   "metadata": {},
   "outputs": [],
   "source": [
    "# Process large CSV file in chunks and merge filtered parts\n",
    "chunk_size = 500000  # Number of rows to load at a time\n",
    "col = \"Specjalność komórki\"\n",
    "speciality = \"poradnia okulistyczna\"\n",
    "filter_dict = {col: speciality}\n",
    "\n",
    "filtered_dataframes = []\n",
    "for chunk in pd.read_csv(file_path, chunksize=chunk_size):\n",
    "    # Filter the data based on the provided criteria\n",
    "    filtered_chunk = filter_dataframe(chunk, filter_dict=filter_dict)\n",
    "\n",
    "    if not filtered_chunk.empty:\n",
    "        filtered_dataframes.append(filtered_chunk)\n",
    "\n",
    "# Merge all filtered chunks into a single DataFrame\n",
    "df_raw = pd.concat(filtered_dataframes, ignore_index=True)\n"
   ]
  },
  {
   "cell_type": "markdown",
   "metadata": {},
   "source": [
    "# Analyze dataframe"
   ]
  },
  {
   "cell_type": "code",
   "execution_count": 29,
   "metadata": {},
   "outputs": [
    {
     "data": {
      "text/plain": [
       "(758245, 15)"
      ]
     },
     "execution_count": 29,
     "metadata": {},
     "output_type": "execute_result"
    }
   ],
   "source": [
    "df_raw.shape"
   ]
  },
  {
   "cell_type": "code",
   "execution_count": 30,
   "metadata": {},
   "outputs": [
    {
     "data": {
      "text/html": [
       "<div>\n",
       "<style scoped>\n",
       "    .dataframe tbody tr th:only-of-type {\n",
       "        vertical-align: middle;\n",
       "    }\n",
       "\n",
       "    .dataframe tbody tr th {\n",
       "        vertical-align: top;\n",
       "    }\n",
       "\n",
       "    .dataframe thead th {\n",
       "        text-align: right;\n",
       "    }\n",
       "</style>\n",
       "<table border=\"1\" class=\"dataframe\">\n",
       "  <thead>\n",
       "    <tr style=\"text-align: right;\">\n",
       "      <th></th>\n",
       "      <th>column_name</th>\n",
       "      <th>missing_values_total</th>\n",
       "      <th>missing_values_percent</th>\n",
       "      <th>unique_values_count</th>\n",
       "      <th>data_type</th>\n",
       "    </tr>\n",
       "  </thead>\n",
       "  <tbody>\n",
       "    <tr>\n",
       "      <th>0</th>\n",
       "      <td>Nazwa świadczeniodawcy</td>\n",
       "      <td>0</td>\n",
       "      <td>0.000000</td>\n",
       "      <td>1494</td>\n",
       "      <td>object</td>\n",
       "    </tr>\n",
       "    <tr>\n",
       "      <th>1</th>\n",
       "      <td>Województwo</td>\n",
       "      <td>198</td>\n",
       "      <td>0.026113</td>\n",
       "      <td>16</td>\n",
       "      <td>object</td>\n",
       "    </tr>\n",
       "    <tr>\n",
       "      <th>2</th>\n",
       "      <td>Powiat</td>\n",
       "      <td>0</td>\n",
       "      <td>0.000000</td>\n",
       "      <td>349</td>\n",
       "      <td>object</td>\n",
       "    </tr>\n",
       "    <tr>\n",
       "      <th>3</th>\n",
       "      <td>Gmina</td>\n",
       "      <td>198</td>\n",
       "      <td>0.026113</td>\n",
       "      <td>617</td>\n",
       "      <td>object</td>\n",
       "    </tr>\n",
       "    <tr>\n",
       "      <th>4</th>\n",
       "      <td>Specjalność komórki</td>\n",
       "      <td>0</td>\n",
       "      <td>0.000000</td>\n",
       "      <td>1</td>\n",
       "      <td>object</td>\n",
       "    </tr>\n",
       "    <tr>\n",
       "      <th>5</th>\n",
       "      <td>Miesiąc</td>\n",
       "      <td>0</td>\n",
       "      <td>0.000000</td>\n",
       "      <td>12</td>\n",
       "      <td>int64</td>\n",
       "    </tr>\n",
       "    <tr>\n",
       "      <th>6</th>\n",
       "      <td>Rok</td>\n",
       "      <td>0</td>\n",
       "      <td>0.000000</td>\n",
       "      <td>4</td>\n",
       "      <td>int64</td>\n",
       "    </tr>\n",
       "    <tr>\n",
       "      <th>7</th>\n",
       "      <td>Kod ICD-10 poziom 3.</td>\n",
       "      <td>5</td>\n",
       "      <td>0.000659</td>\n",
       "      <td>999</td>\n",
       "      <td>object</td>\n",
       "    </tr>\n",
       "    <tr>\n",
       "      <th>8</th>\n",
       "      <td>Nazwa ICD-10 poziom 3.</td>\n",
       "      <td>5</td>\n",
       "      <td>0.000659</td>\n",
       "      <td>999</td>\n",
       "      <td>object</td>\n",
       "    </tr>\n",
       "    <tr>\n",
       "      <th>9</th>\n",
       "      <td>Kod ICD-10 poziom 2.</td>\n",
       "      <td>5</td>\n",
       "      <td>0.000659</td>\n",
       "      <td>226</td>\n",
       "      <td>object</td>\n",
       "    </tr>\n",
       "    <tr>\n",
       "      <th>10</th>\n",
       "      <td>Nazwa ICD-10 poziom 2.</td>\n",
       "      <td>5</td>\n",
       "      <td>0.000659</td>\n",
       "      <td>226</td>\n",
       "      <td>object</td>\n",
       "    </tr>\n",
       "    <tr>\n",
       "      <th>11</th>\n",
       "      <td>Kod ICD-10 poziom 1.</td>\n",
       "      <td>5</td>\n",
       "      <td>0.000659</td>\n",
       "      <td>22</td>\n",
       "      <td>object</td>\n",
       "    </tr>\n",
       "    <tr>\n",
       "      <th>12</th>\n",
       "      <td>Nazwa ICD-10 poziom 1.</td>\n",
       "      <td>5</td>\n",
       "      <td>0.000659</td>\n",
       "      <td>22</td>\n",
       "      <td>object</td>\n",
       "    </tr>\n",
       "    <tr>\n",
       "      <th>13</th>\n",
       "      <td>Liczba wszystkich porad AOS</td>\n",
       "      <td>0</td>\n",
       "      <td>0.000000</td>\n",
       "      <td>895</td>\n",
       "      <td>int64</td>\n",
       "    </tr>\n",
       "    <tr>\n",
       "      <th>14</th>\n",
       "      <td>Liczba teleporad AOS</td>\n",
       "      <td>0</td>\n",
       "      <td>0.000000</td>\n",
       "      <td>232</td>\n",
       "      <td>int64</td>\n",
       "    </tr>\n",
       "  </tbody>\n",
       "</table>\n",
       "</div>"
      ],
      "text/plain": [
       "                    column_name  missing_values_total  missing_values_percent  \\\n",
       "0        Nazwa świadczeniodawcy                     0                0.000000   \n",
       "1                   Województwo                   198                0.026113   \n",
       "2                        Powiat                     0                0.000000   \n",
       "3                         Gmina                   198                0.026113   \n",
       "4           Specjalność komórki                     0                0.000000   \n",
       "5                       Miesiąc                     0                0.000000   \n",
       "6                           Rok                     0                0.000000   \n",
       "7          Kod ICD-10 poziom 3.                     5                0.000659   \n",
       "8        Nazwa ICD-10 poziom 3.                     5                0.000659   \n",
       "9          Kod ICD-10 poziom 2.                     5                0.000659   \n",
       "10       Nazwa ICD-10 poziom 2.                     5                0.000659   \n",
       "11         Kod ICD-10 poziom 1.                     5                0.000659   \n",
       "12       Nazwa ICD-10 poziom 1.                     5                0.000659   \n",
       "13  Liczba wszystkich porad AOS                     0                0.000000   \n",
       "14         Liczba teleporad AOS                     0                0.000000   \n",
       "\n",
       "    unique_values_count data_type  \n",
       "0                  1494    object  \n",
       "1                    16    object  \n",
       "2                   349    object  \n",
       "3                   617    object  \n",
       "4                     1    object  \n",
       "5                    12     int64  \n",
       "6                     4     int64  \n",
       "7                   999    object  \n",
       "8                   999    object  \n",
       "9                   226    object  \n",
       "10                  226    object  \n",
       "11                   22    object  \n",
       "12                   22    object  \n",
       "13                  895     int64  \n",
       "14                  232     int64  "
      ]
     },
     "execution_count": 30,
     "metadata": {},
     "output_type": "execute_result"
    }
   ],
   "source": [
    "analyze_dataframe(df_raw)"
   ]
  },
  {
   "cell_type": "markdown",
   "metadata": {},
   "source": [
    "## 198 rows with missing values in Województwo"
   ]
  },
  {
   "cell_type": "code",
   "execution_count": 31,
   "metadata": {},
   "outputs": [],
   "source": [
    "df = df_raw.copy()"
   ]
  },
  {
   "cell_type": "code",
   "execution_count": 33,
   "metadata": {},
   "outputs": [
    {
     "data": {
      "text/plain": [
       "(198, 15)"
      ]
     },
     "execution_count": 33,
     "metadata": {},
     "output_type": "execute_result"
    }
   ],
   "source": [
    "df[df[\"Województwo\"].isna() & df[\"Powiat\"].notna()].shape\n"
   ]
  },
  {
   "cell_type": "code",
   "execution_count": 34,
   "metadata": {},
   "outputs": [],
   "source": [
    "df = fill_missing_values_based_on_column_mapping(\n",
    "    df, target_col=\"Województwo\", reference_col=\"Powiat\"\n",
    ")"
   ]
  },
  {
   "cell_type": "code",
   "execution_count": 35,
   "metadata": {},
   "outputs": [
    {
     "data": {
      "text/plain": [
       "(0, 15)"
      ]
     },
     "execution_count": 35,
     "metadata": {},
     "output_type": "execute_result"
    }
   ],
   "source": [
    "df[df[\"Województwo\"].isna()].shape"
   ]
  },
  {
   "cell_type": "markdown",
   "metadata": {},
   "source": [
    "# Save processed dataframe"
   ]
  },
  {
   "cell_type": "code",
   "execution_count": 36,
   "metadata": {},
   "outputs": [
    {
     "data": {
      "text/plain": [
       "WindowsPath('c:/Users/huber/OneDrive/Dokumenty/GitHub/mz_raport/data/processed/teleporady_poradnia_okulistyczna.csv')"
      ]
     },
     "execution_count": 36,
     "metadata": {},
     "output_type": "execute_result"
    }
   ],
   "source": [
    "file_path = Path(\n",
    "    DATA_DIR / \"processed\" / f\"{dataset_name}_{speciality.replace(' ', '_')}.csv\"\n",
    ")\n",
    "file_path"
   ]
  },
  {
   "cell_type": "code",
   "execution_count": 37,
   "metadata": {},
   "outputs": [
    {
     "name": "stdout",
     "output_type": "stream",
     "text": [
      "CSV file successfully written to: c:\\Users\\huber\\OneDrive\\Dokumenty\\GitHub\\mz_raport\\data\\processed\\teleporady_poradnia_okulistyczna.csv\n"
     ]
    }
   ],
   "source": [
    "write_csv(df, file_path)"
   ]
  }
 ],
 "metadata": {
  "kernelspec": {
   "display_name": "mz_raport",
   "language": "python",
   "name": "python3"
  },
  "language_info": {
   "codemirror_mode": {
    "name": "ipython",
    "version": 3
   },
   "file_extension": ".py",
   "mimetype": "text/x-python",
   "name": "python",
   "nbconvert_exporter": "python",
   "pygments_lexer": "ipython3",
   "version": "3.9.21"
  }
 },
 "nbformat": 4,
 "nbformat_minor": 2
}
