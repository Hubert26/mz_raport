{
 "cells": [
  {
   "cell_type": "code",
   "execution_count": 1,
   "metadata": {},
   "outputs": [],
   "source": [
    "import sys\n",
    "from pathlib import Path\n",
    "\n",
    "# Add project root to Python path\n",
    "project_root = Path.cwd().parent\n",
    "if str(project_root) not in sys.path:\n",
    "    sys.path.append(str(project_root))\n",
    "\n",
    "# Import project paths\n",
    "from src.helpers.config import DATA_DIR\n",
    "from src.helpers.utils import (\n",
    "    get_files_paths,\n",
    "    load_files,\n",
    "    filter_dataframe,\n",
    "    analyze_dataframe,\n",
    "    write_csv,\n",
    ")"
   ]
  },
  {
   "cell_type": "markdown",
   "metadata": {},
   "source": [
    "# Load dataframe"
   ]
  },
  {
   "cell_type": "code",
   "execution_count": 2,
   "metadata": {},
   "outputs": [],
   "source": [
    "dataset_name = \"swiad_woj\""
   ]
  },
  {
   "cell_type": "code",
   "execution_count": 3,
   "metadata": {},
   "outputs": [],
   "source": [
    "file_paths = get_files_paths(Path(DATA_DIR / \"raw\"), dataset_name, \"csv\")\n",
    "df_raw = load_files(file_paths)"
   ]
  },
  {
   "cell_type": "markdown",
   "metadata": {},
   "source": [
    "# Analyze dataframe"
   ]
  },
  {
   "cell_type": "code",
   "execution_count": 4,
   "metadata": {},
   "outputs": [
    {
     "data": {
      "text/plain": [
       "(10638, 8)"
      ]
     },
     "execution_count": 4,
     "metadata": {},
     "output_type": "execute_result"
    }
   ],
   "source": [
    "df_raw.shape"
   ]
  },
  {
   "cell_type": "code",
   "execution_count": 5,
   "metadata": {},
   "outputs": [
    {
     "data": {
      "text/html": [
       "<div>\n",
       "<style scoped>\n",
       "    .dataframe tbody tr th:only-of-type {\n",
       "        vertical-align: middle;\n",
       "    }\n",
       "\n",
       "    .dataframe tbody tr th {\n",
       "        vertical-align: top;\n",
       "    }\n",
       "\n",
       "    .dataframe thead th {\n",
       "        text-align: right;\n",
       "    }\n",
       "</style>\n",
       "<table border=\"1\" class=\"dataframe\">\n",
       "  <thead>\n",
       "    <tr style=\"text-align: right;\">\n",
       "      <th></th>\n",
       "      <th>Rok</th>\n",
       "      <th>Województwo</th>\n",
       "      <th>Populacja</th>\n",
       "      <th>Specjalność komórki</th>\n",
       "      <th>Liczba porad AOS</th>\n",
       "      <th>Liczba porad AOS/1 tys. mieszk.</th>\n",
       "      <th>Liczba poradni AOS</th>\n",
       "      <th>Liczba poradni AOS/10 tys. mieszk.</th>\n",
       "    </tr>\n",
       "  </thead>\n",
       "  <tbody>\n",
       "    <tr>\n",
       "      <th>0</th>\n",
       "      <td>2023</td>\n",
       "      <td>dolnośląskie</td>\n",
       "      <td>2879271</td>\n",
       "      <td>poradnia alergologiczna</td>\n",
       "      <td>156187</td>\n",
       "      <td>54.25</td>\n",
       "      <td>61</td>\n",
       "      <td>0.21</td>\n",
       "    </tr>\n",
       "    <tr>\n",
       "      <th>1</th>\n",
       "      <td>2023</td>\n",
       "      <td>dolnośląskie</td>\n",
       "      <td>2879271</td>\n",
       "      <td>poradnia alergologiczna dla dzieci</td>\n",
       "      <td>30880</td>\n",
       "      <td>10.72</td>\n",
       "      <td>11</td>\n",
       "      <td>0.04</td>\n",
       "    </tr>\n",
       "  </tbody>\n",
       "</table>\n",
       "</div>"
      ],
      "text/plain": [
       "    Rok   Województwo  Populacja                 Specjalność komórki  \\\n",
       "0  2023  dolnośląskie    2879271             poradnia alergologiczna   \n",
       "1  2023  dolnośląskie    2879271  poradnia alergologiczna dla dzieci   \n",
       "\n",
       "   Liczba porad AOS  Liczba porad AOS/1 tys. mieszk.  Liczba poradni AOS  \\\n",
       "0            156187                            54.25                  61   \n",
       "1             30880                            10.72                  11   \n",
       "\n",
       "   Liczba poradni AOS/10 tys. mieszk.  \n",
       "0                                0.21  \n",
       "1                                0.04  "
      ]
     },
     "execution_count": 5,
     "metadata": {},
     "output_type": "execute_result"
    }
   ],
   "source": [
    "df_raw.head(2)"
   ]
  },
  {
   "cell_type": "code",
   "execution_count": 7,
   "metadata": {},
   "outputs": [
    {
     "data": {
      "text/html": [
       "<div>\n",
       "<style scoped>\n",
       "    .dataframe tbody tr th:only-of-type {\n",
       "        vertical-align: middle;\n",
       "    }\n",
       "\n",
       "    .dataframe tbody tr th {\n",
       "        vertical-align: top;\n",
       "    }\n",
       "\n",
       "    .dataframe thead th {\n",
       "        text-align: right;\n",
       "    }\n",
       "</style>\n",
       "<table border=\"1\" class=\"dataframe\">\n",
       "  <thead>\n",
       "    <tr style=\"text-align: right;\">\n",
       "      <th></th>\n",
       "      <th>column_name</th>\n",
       "      <th>missing_values_total</th>\n",
       "      <th>missing_values_percent</th>\n",
       "      <th>unique_values_count</th>\n",
       "      <th>data_type</th>\n",
       "    </tr>\n",
       "  </thead>\n",
       "  <tbody>\n",
       "    <tr>\n",
       "      <th>0</th>\n",
       "      <td>Rok</td>\n",
       "      <td>0</td>\n",
       "      <td>0.0</td>\n",
       "      <td>8</td>\n",
       "      <td>int64</td>\n",
       "    </tr>\n",
       "    <tr>\n",
       "      <th>1</th>\n",
       "      <td>Województwo</td>\n",
       "      <td>0</td>\n",
       "      <td>0.0</td>\n",
       "      <td>16</td>\n",
       "      <td>object</td>\n",
       "    </tr>\n",
       "    <tr>\n",
       "      <th>2</th>\n",
       "      <td>Populacja</td>\n",
       "      <td>0</td>\n",
       "      <td>0.0</td>\n",
       "      <td>128</td>\n",
       "      <td>int64</td>\n",
       "    </tr>\n",
       "    <tr>\n",
       "      <th>3</th>\n",
       "      <td>Specjalność komórki</td>\n",
       "      <td>0</td>\n",
       "      <td>0.0</td>\n",
       "      <td>163</td>\n",
       "      <td>object</td>\n",
       "    </tr>\n",
       "    <tr>\n",
       "      <th>4</th>\n",
       "      <td>Liczba porad AOS</td>\n",
       "      <td>0</td>\n",
       "      <td>0.0</td>\n",
       "      <td>9103</td>\n",
       "      <td>int64</td>\n",
       "    </tr>\n",
       "    <tr>\n",
       "      <th>5</th>\n",
       "      <td>Liczba porad AOS/1 tys. mieszk.</td>\n",
       "      <td>0</td>\n",
       "      <td>0.0</td>\n",
       "      <td>4046</td>\n",
       "      <td>float64</td>\n",
       "    </tr>\n",
       "    <tr>\n",
       "      <th>6</th>\n",
       "      <td>Liczba poradni AOS</td>\n",
       "      <td>0</td>\n",
       "      <td>0.0</td>\n",
       "      <td>247</td>\n",
       "      <td>int64</td>\n",
       "    </tr>\n",
       "    <tr>\n",
       "      <th>7</th>\n",
       "      <td>Liczba poradni AOS/10 tys. mieszk.</td>\n",
       "      <td>0</td>\n",
       "      <td>0.0</td>\n",
       "      <td>95</td>\n",
       "      <td>float64</td>\n",
       "    </tr>\n",
       "  </tbody>\n",
       "</table>\n",
       "</div>"
      ],
      "text/plain": [
       "                          column_name  missing_values_total  \\\n",
       "0                                 Rok                     0   \n",
       "1                         Województwo                     0   \n",
       "2                           Populacja                     0   \n",
       "3                 Specjalność komórki                     0   \n",
       "4                    Liczba porad AOS                     0   \n",
       "5     Liczba porad AOS/1 tys. mieszk.                     0   \n",
       "6                  Liczba poradni AOS                     0   \n",
       "7  Liczba poradni AOS/10 tys. mieszk.                     0   \n",
       "\n",
       "   missing_values_percent  unique_values_count data_type  \n",
       "0                     0.0                    8     int64  \n",
       "1                     0.0                   16    object  \n",
       "2                     0.0                  128     int64  \n",
       "3                     0.0                  163    object  \n",
       "4                     0.0                 9103     int64  \n",
       "5                     0.0                 4046   float64  \n",
       "6                     0.0                  247     int64  \n",
       "7                     0.0                   95   float64  "
      ]
     },
     "execution_count": 7,
     "metadata": {},
     "output_type": "execute_result"
    }
   ],
   "source": [
    "nan_analysis = analyze_dataframe(df_raw)\n",
    "nan_analysis"
   ]
  },
  {
   "cell_type": "code",
   "execution_count": 8,
   "metadata": {},
   "outputs": [],
   "source": [
    "col = \"Specjalność komórki\""
   ]
  },
  {
   "cell_type": "code",
   "execution_count": 9,
   "metadata": {},
   "outputs": [
    {
     "data": {
      "text/plain": [
       "array(['poradnia alergologiczna', 'poradnia alergologiczna dla dzieci',\n",
       "       'poradnia audiologiczna', 'poradnia chemioterapii',\n",
       "       'poradnia chirurgii klatki piersiowej',\n",
       "       'poradnia chirurgii naczyniowej', 'poradnia chirurgii ogólnej',\n",
       "       'poradnia chirurgii ogólnej dla dzieci',\n",
       "       'poradnia chirurgii onkologicznej',\n",
       "       'poradnia chirurgii onkologicznej dla dzieci',\n",
       "       'poradnia chirurgii plastycznej',\n",
       "       'poradnia chirurgii szczękowo-twarzowej',\n",
       "       'poradnia chirurgii urazowo-ortopedycznej',\n",
       "       'poradnia chirurgii urazowo-ortopedycznej dla dzieci',\n",
       "       'poradnia chorób metabolicznych', 'poradnia chorób naczyń',\n",
       "       'poradnia chorób płuc', 'poradnia chorób wewnętrznych',\n",
       "       'poradnia chorób zakaźnych',\n",
       "       'poradnia chorób zakaźnych dla dzieci', 'poradnia dermatologiczna',\n",
       "       'poradnia diabetologiczna', 'poradnia diabetologiczna dla dzieci',\n",
       "       'poradnia endokrynologiczna',\n",
       "       'poradnia endokrynologiczna dla dzieci',\n",
       "       'poradnia endokrynologiczna osteoporozy', 'poradnia foniatryczna',\n",
       "       'poradnia gastroenterologiczna',\n",
       "       'poradnia gastroenterologiczna dla dzieci', 'poradnia genetyczna',\n",
       "       'poradnia geriatryczna', 'poradnia ginekologiczna',\n",
       "       'poradnia ginekologiczna dla dziewcząt',\n",
       "       'poradnia ginekologii onkologicznej',\n",
       "       'poradnia gruźlicy i chorób płuc',\n",
       "       'poradnia gruźlicy i chorób płuc dla dzieci',\n",
       "       'poradnia hematologiczna', 'poradnia hematologiczna dla dzieci',\n",
       "       'poradnia hepatologiczna', 'poradnia immunologiczna',\n",
       "       'poradnia kardiochirurgiczna', 'poradnia kardiologiczna',\n",
       "       'poradnia kardiologiczna dla dzieci', 'poradnia leczenia bólu',\n",
       "       'poradnia leczenia mukowiscydozy', 'poradnia leczenia zeza',\n",
       "       'poradnia logopedyczna', 'poradnia medycyny sportowej',\n",
       "       'poradnia nadciśnienia tętniczego', 'poradnia nefrologiczna',\n",
       "       'poradnia nefrologiczna dla dzieci', 'poradnia neonatologiczna',\n",
       "       'poradnia neurochirurgiczna', 'poradnia neurologiczna',\n",
       "       'poradnia neurologiczna dla dzieci', 'poradnia okulistyczna',\n",
       "       'poradnia okulistyczna dla dzieci', 'poradnia onkologiczna',\n",
       "       'poradnia onkologii i hematologii dziecięcej',\n",
       "       'poradnia osteoporozy', 'poradnia otorynolaryngologiczna',\n",
       "       'poradnia otorynolaryngologiczna dla dzieci',\n",
       "       'poradnia patologii ciąży', 'poradnia położniczo-ginekologiczna',\n",
       "       'poradnia preluksacyjna',\n",
       "       'poradnia profilaktyczno-lecznicza (hiv/aids)',\n",
       "       'poradnia profilaktyki chorób piersi', 'poradnia proktologiczna',\n",
       "       'poradnia radioterapii', 'poradnia reumatologiczna',\n",
       "       'poradnia reumatologiczna dla dzieci',\n",
       "       'poradnia transplantologiczna', 'poradnia urologiczna',\n",
       "       'poradnia urologiczna dla dzieci', 'poradnia wad postawy',\n",
       "       'poradnia wad serca', 'poradnia zaburzeń i wad rozwojowych dzieci',\n",
       "       'pracownia endoskopii', 'pracownia lub zakład medycyny nuklearnej',\n",
       "       'pracownia rentgenodiagnostyki ogólnej',\n",
       "       'pracownia rezonansu magnetycznego',\n",
       "       'pracownia tomografii komputerowej', 'pracownia usg',\n",
       "       'poradnia (gabinet) lekarza podstawowej opieki zdrowotnej',\n",
       "       'poradnia audiologiczna dla dzieci',\n",
       "       'poradnia chorób metabolicznych dla dzieci',\n",
       "       'poradnia chorób płuc dla dzieci',\n",
       "       'poradnia dermatologiczna dla dzieci',\n",
       "       'poradnia endokrynologii i diabetologii dziecięcej',\n",
       "       'poradnia immunologiczna dla dzieci',\n",
       "       'poradnia leczenia mukowiscydozy dla dzieci',\n",
       "       'poradnia logopedyczna dla dzieci',\n",
       "       'poradnia neurochirurgiczna dla dzieci',\n",
       "       'poradnia onkologiczna dla dzieci',\n",
       "       'poradnia transplantologiczna dla dzieci',\n",
       "       'poradnia zaopatrzenia ortopedycznego',\n",
       "       'poradnia endokrynologiczno-ginekologiczna',\n",
       "       'poradnia foniatryczna dla dzieci', 'poradnia pediatryczna',\n",
       "       'poradnia toksykologiczna',\n",
       "       'mobilna pracownia badań diagnostycznych',\n",
       "       'oddział leczenia jednego dnia',\n",
       "       'pracownia rentgenodiagnostyki zabiegowej/pracownia radiologii zabiegowej',\n",
       "       'dział (pracownia) fizjoterapii',\n",
       "       'inne pracownie diagnostyczne lub zabiegowe',\n",
       "       'poradnia andrologiczna',\n",
       "       'poradnia chirurgii plastycznej dla dzieci',\n",
       "       'poradnia chorób tarczycy',\n",
       "       'poradnia kontroli rozruszników i kardiowerterów',\n",
       "       'poradnia leczenia bólu dla dzieci',\n",
       "       'poradnia leczenia niepłodności', 'poradnia wenerologiczna',\n",
       "       'pracownia rezonansu magnetycznego dla dzieci',\n",
       "       'pracownia tomografii komputerowej dla dzieci',\n",
       "       'ambulatorium ogólne', 'oddział pediatryczny',\n",
       "       'poradnia hepatologiczna dla dzieci',\n",
       "       'poradnia kardiochirurgiczna dla dzieci',\n",
       "       'poradnia pediatryczna szczepień dla dzieci z grup wysokiego ryzyka',\n",
       "       'oddział chirurgiczny ogólny', 'oddział chorób wewnętrznych',\n",
       "       'poradnia chirurgii stomatologicznej',\n",
       "       'poradnia chorób odzwierzęcych i pasożytniczych',\n",
       "       'poradnia chorób tropikalnych',\n",
       "       'poradnia leczenia zeza dla dzieci',\n",
       "       'pracownia endoskopii dla dzieci',\n",
       "       'poradnia chirurgii szczękowo-twarzowej dla dzieci',\n",
       "       'poradnia genetyczna dla dzieci',\n",
       "       'pracownia diagnostyki obrazowej', 'pracownia scyntygrafii',\n",
       "       'poradnia zdrowia psychicznego',\n",
       "       'poradnia genetyczno-onkologiczna',\n",
       "       'poradnia leczenia zespołu stopy cukrzycowej',\n",
       "       'poradnia medycyny sportowej dla dzieci', 'oddział chorób płuc',\n",
       "       'oddział gastroenterologiczny', 'poradnia medycyny nuklearnej',\n",
       "       'poradnia planowania rodziny i rozrodczości',\n",
       "       'poradnia okresu przekwitania',\n",
       "       'poradnia (gabinet) podstawowej opieki zdrowotnej',\n",
       "       'pracownia genetyczna',\n",
       "       'inna i nieokreślona komórka działalności medycznej',\n",
       "       'oddział gastroenterologiczny dla dzieci',\n",
       "       'poradnia (gabinet) pielęgniarki podstawowej opieki zdrowotnej',\n",
       "       'poradnia transplantacji nerek', 'poradnia leczenia jaskry',\n",
       "       'ambulatorium okulistyczne', 'poradnia nowotworów krwi',\n",
       "       'gabinet diagnostyczno-zabiegowy', 'oddział neurologiczny',\n",
       "       'poradnia wzw', 'poradnia gastrologiczna',\n",
       "       'poradnia leczenia oparzeń', 'pracownie inne',\n",
       "       'pracownia diagnostyczna', 'oddział okulistyczny',\n",
       "       'poradnia chorób odzwierzęcych i pasożytniczych dla dzieci',\n",
       "       'medyczne laboratorium diagnostyczne (laboratorium)',\n",
       "       'brak danych', 'poradnia medycyny paliatywnej',\n",
       "       'oddział kardiologiczny',\n",
       "       'oddział onkologii klinicznej/chemioterapii',\n",
       "       'realizator zaopatrzenia w wyroby medyczne będące przedmiotami ortopedycznymi lub środkami pomocniczymi'],\n",
       "      dtype=object)"
      ]
     },
     "execution_count": 9,
     "metadata": {},
     "output_type": "execute_result"
    }
   ],
   "source": [
    "df_raw[col].unique()"
   ]
  },
  {
   "cell_type": "markdown",
   "metadata": {},
   "source": [
    "# Filter dataframe"
   ]
  },
  {
   "cell_type": "code",
   "execution_count": 10,
   "metadata": {},
   "outputs": [],
   "source": [
    "speciality = \"poradnia okulistyczna\""
   ]
  },
  {
   "cell_type": "code",
   "execution_count": 11,
   "metadata": {},
   "outputs": [],
   "source": [
    "filter_dict = {col: speciality}\n",
    "df = filter_dataframe(df_raw, filter_dict=filter_dict)"
   ]
  },
  {
   "cell_type": "code",
   "execution_count": 12,
   "metadata": {},
   "outputs": [
    {
     "data": {
      "text/plain": [
       "(128, 8)"
      ]
     },
     "execution_count": 12,
     "metadata": {},
     "output_type": "execute_result"
    }
   ],
   "source": [
    "df.shape"
   ]
  },
  {
   "cell_type": "code",
   "execution_count": 13,
   "metadata": {},
   "outputs": [
    {
     "data": {
      "text/html": [
       "<div>\n",
       "<style scoped>\n",
       "    .dataframe tbody tr th:only-of-type {\n",
       "        vertical-align: middle;\n",
       "    }\n",
       "\n",
       "    .dataframe tbody tr th {\n",
       "        vertical-align: top;\n",
       "    }\n",
       "\n",
       "    .dataframe thead th {\n",
       "        text-align: right;\n",
       "    }\n",
       "</style>\n",
       "<table border=\"1\" class=\"dataframe\">\n",
       "  <thead>\n",
       "    <tr style=\"text-align: right;\">\n",
       "      <th></th>\n",
       "      <th>column_name</th>\n",
       "      <th>missing_values_total</th>\n",
       "      <th>missing_values_percent</th>\n",
       "      <th>unique_values_count</th>\n",
       "      <th>data_type</th>\n",
       "    </tr>\n",
       "  </thead>\n",
       "  <tbody>\n",
       "    <tr>\n",
       "      <th>0</th>\n",
       "      <td>Rok</td>\n",
       "      <td>0</td>\n",
       "      <td>0.0</td>\n",
       "      <td>8</td>\n",
       "      <td>int64</td>\n",
       "    </tr>\n",
       "    <tr>\n",
       "      <th>1</th>\n",
       "      <td>Województwo</td>\n",
       "      <td>0</td>\n",
       "      <td>0.0</td>\n",
       "      <td>16</td>\n",
       "      <td>object</td>\n",
       "    </tr>\n",
       "    <tr>\n",
       "      <th>2</th>\n",
       "      <td>Populacja</td>\n",
       "      <td>0</td>\n",
       "      <td>0.0</td>\n",
       "      <td>128</td>\n",
       "      <td>int64</td>\n",
       "    </tr>\n",
       "    <tr>\n",
       "      <th>3</th>\n",
       "      <td>Specjalność komórki</td>\n",
       "      <td>0</td>\n",
       "      <td>0.0</td>\n",
       "      <td>1</td>\n",
       "      <td>object</td>\n",
       "    </tr>\n",
       "    <tr>\n",
       "      <th>4</th>\n",
       "      <td>Liczba porad AOS</td>\n",
       "      <td>0</td>\n",
       "      <td>0.0</td>\n",
       "      <td>128</td>\n",
       "      <td>int64</td>\n",
       "    </tr>\n",
       "    <tr>\n",
       "      <th>5</th>\n",
       "      <td>Liczba porad AOS/1 tys. mieszk.</td>\n",
       "      <td>0</td>\n",
       "      <td>0.0</td>\n",
       "      <td>127</td>\n",
       "      <td>float64</td>\n",
       "    </tr>\n",
       "    <tr>\n",
       "      <th>6</th>\n",
       "      <td>Liczba poradni AOS</td>\n",
       "      <td>0</td>\n",
       "      <td>0.0</td>\n",
       "      <td>88</td>\n",
       "      <td>int64</td>\n",
       "    </tr>\n",
       "    <tr>\n",
       "      <th>7</th>\n",
       "      <td>Liczba poradni AOS/10 tys. mieszk.</td>\n",
       "      <td>0</td>\n",
       "      <td>0.0</td>\n",
       "      <td>35</td>\n",
       "      <td>float64</td>\n",
       "    </tr>\n",
       "  </tbody>\n",
       "</table>\n",
       "</div>"
      ],
      "text/plain": [
       "                          column_name  missing_values_total  \\\n",
       "0                                 Rok                     0   \n",
       "1                         Województwo                     0   \n",
       "2                           Populacja                     0   \n",
       "3                 Specjalność komórki                     0   \n",
       "4                    Liczba porad AOS                     0   \n",
       "5     Liczba porad AOS/1 tys. mieszk.                     0   \n",
       "6                  Liczba poradni AOS                     0   \n",
       "7  Liczba poradni AOS/10 tys. mieszk.                     0   \n",
       "\n",
       "   missing_values_percent  unique_values_count data_type  \n",
       "0                     0.0                    8     int64  \n",
       "1                     0.0                   16    object  \n",
       "2                     0.0                  128     int64  \n",
       "3                     0.0                    1    object  \n",
       "4                     0.0                  128     int64  \n",
       "5                     0.0                  127   float64  \n",
       "6                     0.0                   88     int64  \n",
       "7                     0.0                   35   float64  "
      ]
     },
     "execution_count": 13,
     "metadata": {},
     "output_type": "execute_result"
    }
   ],
   "source": [
    "analyze_dataframe(df)"
   ]
  },
  {
   "cell_type": "markdown",
   "metadata": {},
   "source": [
    "# Save processed dataframe"
   ]
  },
  {
   "cell_type": "code",
   "execution_count": 14,
   "metadata": {},
   "outputs": [
    {
     "data": {
      "text/plain": [
       "WindowsPath('c:/Users/huber/OneDrive/Dokumenty/GitHub/mz_raport/data/processed/swiad_woj_poradnia_okulistyczna.csv')"
      ]
     },
     "execution_count": 14,
     "metadata": {},
     "output_type": "execute_result"
    }
   ],
   "source": [
    "file_path = Path(\n",
    "    DATA_DIR / \"processed\" / f\"{dataset_name}_{speciality.replace(' ', '_')}.csv\"\n",
    ")\n",
    "file_path"
   ]
  },
  {
   "cell_type": "code",
   "execution_count": 15,
   "metadata": {},
   "outputs": [
    {
     "name": "stdout",
     "output_type": "stream",
     "text": [
      "CSV file successfully written to: c:\\Users\\huber\\OneDrive\\Dokumenty\\GitHub\\mz_raport\\data\\processed\\swiad_woj_poradnia_okulistyczna.csv\n"
     ]
    }
   ],
   "source": [
    "write_csv(df, file_path)"
   ]
  }
 ],
 "metadata": {
  "kernelspec": {
   "display_name": "mz_raport",
   "language": "python",
   "name": "python3"
  },
  "language_info": {
   "codemirror_mode": {
    "name": "ipython",
    "version": 3
   },
   "file_extension": ".py",
   "mimetype": "text/x-python",
   "name": "python",
   "nbconvert_exporter": "python",
   "pygments_lexer": "ipython3",
   "version": "3.9.21"
  }
 },
 "nbformat": 4,
 "nbformat_minor": 2
}
