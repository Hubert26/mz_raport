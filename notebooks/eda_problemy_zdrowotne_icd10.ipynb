{
 "cells": [
  {
   "cell_type": "code",
   "execution_count": 1,
   "metadata": {},
   "outputs": [],
   "source": [
    "import sys\n",
    "from pathlib import Path\n",
    "\n",
    "# Add project root to Python path\n",
    "project_root = Path.cwd().parent\n",
    "if str(project_root) not in sys.path:\n",
    "    sys.path.append(str(project_root))\n",
    "\n",
    "# Import project paths\n",
    "from src.helpers.config import DATA_DIR\n",
    "from src.helpers.utils import (\n",
    "    get_files_paths,\n",
    "    load_files,\n",
    "    filter_dataframe,\n",
    "    analyze_dataframe,\n",
    "    write_csv,\n",
    ")"
   ]
  },
  {
   "cell_type": "markdown",
   "metadata": {},
   "source": [
    "# Load dataframe"
   ]
  },
  {
   "cell_type": "code",
   "execution_count": 2,
   "metadata": {},
   "outputs": [],
   "source": [
    "dataset_name = \"problemy_zdrowotne_icd10\""
   ]
  },
  {
   "cell_type": "code",
   "execution_count": 3,
   "metadata": {},
   "outputs": [],
   "source": [
    "file_paths = get_files_paths(Path(DATA_DIR / \"raw\"), dataset_name, \"csv\")\n",
    "df_raw = load_files(file_paths)"
   ]
  },
  {
   "cell_type": "markdown",
   "metadata": {},
   "source": [
    "# Analyze dataframe"
   ]
  },
  {
   "cell_type": "code",
   "execution_count": 4,
   "metadata": {},
   "outputs": [
    {
     "data": {
      "text/plain": [
       "(4933415, 12)"
      ]
     },
     "execution_count": 4,
     "metadata": {},
     "output_type": "execute_result"
    }
   ],
   "source": [
    "df_raw.shape"
   ]
  },
  {
   "cell_type": "code",
   "execution_count": 5,
   "metadata": {},
   "outputs": [
    {
     "data": {
      "text/html": [
       "<div>\n",
       "<style scoped>\n",
       "    .dataframe tbody tr th:only-of-type {\n",
       "        vertical-align: middle;\n",
       "    }\n",
       "\n",
       "    .dataframe tbody tr th {\n",
       "        vertical-align: top;\n",
       "    }\n",
       "\n",
       "    .dataframe thead th {\n",
       "        text-align: right;\n",
       "    }\n",
       "</style>\n",
       "<table border=\"1\" class=\"dataframe\">\n",
       "  <thead>\n",
       "    <tr style=\"text-align: right;\">\n",
       "      <th></th>\n",
       "      <th>Rok</th>\n",
       "      <th>Województwo</th>\n",
       "      <th>Specjalność komórki</th>\n",
       "      <th>Grupa wiekowa</th>\n",
       "      <th>Płeć</th>\n",
       "      <th>Kod ICD-10 poziom 3.</th>\n",
       "      <th>Nazwa ICD-10 poziom 3.</th>\n",
       "      <th>Kod ICD-10 poziom 2.</th>\n",
       "      <th>Nazwa ICD-10 poziom 2.</th>\n",
       "      <th>Kod ICD-10 poziom 1.</th>\n",
       "      <th>Nazwa ICD-10 poziom 1.</th>\n",
       "      <th>Liczba porad AOS</th>\n",
       "    </tr>\n",
       "  </thead>\n",
       "  <tbody>\n",
       "    <tr>\n",
       "      <th>0</th>\n",
       "      <td>2016</td>\n",
       "      <td>dolnośląskie</td>\n",
       "      <td>poradnia chorób zakaźnych</td>\n",
       "      <td>18-39</td>\n",
       "      <td>Kobiety</td>\n",
       "      <td>A04</td>\n",
       "      <td>Inne bakteryjne zakażenia jelitowe</td>\n",
       "      <td>A00-A09</td>\n",
       "      <td>Choroby zakaźne jelit</td>\n",
       "      <td>A00-B99</td>\n",
       "      <td>Wybrane choroby zakaźne i pasożytnicze</td>\n",
       "      <td>3</td>\n",
       "    </tr>\n",
       "    <tr>\n",
       "      <th>1</th>\n",
       "      <td>2016</td>\n",
       "      <td>dolnośląskie</td>\n",
       "      <td>pracownia tomografii komputerowej</td>\n",
       "      <td>18-39</td>\n",
       "      <td>Kobiety</td>\n",
       "      <td>A04</td>\n",
       "      <td>Inne bakteryjne zakażenia jelitowe</td>\n",
       "      <td>A00-A09</td>\n",
       "      <td>Choroby zakaźne jelit</td>\n",
       "      <td>A00-B99</td>\n",
       "      <td>Wybrane choroby zakaźne i pasożytnicze</td>\n",
       "      <td>1</td>\n",
       "    </tr>\n",
       "  </tbody>\n",
       "</table>\n",
       "</div>"
      ],
      "text/plain": [
       "    Rok   Województwo                Specjalność komórki Grupa wiekowa  \\\n",
       "0  2016  dolnośląskie          poradnia chorób zakaźnych         18-39   \n",
       "1  2016  dolnośląskie  pracownia tomografii komputerowej         18-39   \n",
       "\n",
       "      Płeć Kod ICD-10 poziom 3.              Nazwa ICD-10 poziom 3.  \\\n",
       "0  Kobiety                  A04  Inne bakteryjne zakażenia jelitowe   \n",
       "1  Kobiety                  A04  Inne bakteryjne zakażenia jelitowe   \n",
       "\n",
       "  Kod ICD-10 poziom 2. Nazwa ICD-10 poziom 2. Kod ICD-10 poziom 1.  \\\n",
       "0              A00-A09  Choroby zakaźne jelit              A00-B99   \n",
       "1              A00-A09  Choroby zakaźne jelit              A00-B99   \n",
       "\n",
       "                   Nazwa ICD-10 poziom 1.  Liczba porad AOS  \n",
       "0  Wybrane choroby zakaźne i pasożytnicze                 3  \n",
       "1  Wybrane choroby zakaźne i pasożytnicze                 1  "
      ]
     },
     "execution_count": 5,
     "metadata": {},
     "output_type": "execute_result"
    }
   ],
   "source": [
    "df_raw.head(2)"
   ]
  },
  {
   "cell_type": "code",
   "execution_count": 6,
   "metadata": {},
   "outputs": [
    {
     "data": {
      "text/html": [
       "<div>\n",
       "<style scoped>\n",
       "    .dataframe tbody tr th:only-of-type {\n",
       "        vertical-align: middle;\n",
       "    }\n",
       "\n",
       "    .dataframe tbody tr th {\n",
       "        vertical-align: top;\n",
       "    }\n",
       "\n",
       "    .dataframe thead th {\n",
       "        text-align: right;\n",
       "    }\n",
       "</style>\n",
       "<table border=\"1\" class=\"dataframe\">\n",
       "  <thead>\n",
       "    <tr style=\"text-align: right;\">\n",
       "      <th></th>\n",
       "      <th>column_name</th>\n",
       "      <th>missing_values_total</th>\n",
       "      <th>missing_values_percent</th>\n",
       "      <th>unique_values_count</th>\n",
       "      <th>data_type</th>\n",
       "    </tr>\n",
       "  </thead>\n",
       "  <tbody>\n",
       "    <tr>\n",
       "      <th>0</th>\n",
       "      <td>Rok</td>\n",
       "      <td>0</td>\n",
       "      <td>0.0</td>\n",
       "      <td>8</td>\n",
       "      <td>int64</td>\n",
       "    </tr>\n",
       "    <tr>\n",
       "      <th>1</th>\n",
       "      <td>Województwo</td>\n",
       "      <td>0</td>\n",
       "      <td>0.0</td>\n",
       "      <td>16</td>\n",
       "      <td>object</td>\n",
       "    </tr>\n",
       "    <tr>\n",
       "      <th>2</th>\n",
       "      <td>Specjalność komórki</td>\n",
       "      <td>0</td>\n",
       "      <td>0.0</td>\n",
       "      <td>163</td>\n",
       "      <td>object</td>\n",
       "    </tr>\n",
       "    <tr>\n",
       "      <th>3</th>\n",
       "      <td>Grupa wiekowa</td>\n",
       "      <td>0</td>\n",
       "      <td>0.0</td>\n",
       "      <td>4</td>\n",
       "      <td>object</td>\n",
       "    </tr>\n",
       "    <tr>\n",
       "      <th>4</th>\n",
       "      <td>Płeć</td>\n",
       "      <td>0</td>\n",
       "      <td>0.0</td>\n",
       "      <td>2</td>\n",
       "      <td>object</td>\n",
       "    </tr>\n",
       "    <tr>\n",
       "      <th>5</th>\n",
       "      <td>Kod ICD-10 poziom 3.</td>\n",
       "      <td>0</td>\n",
       "      <td>0.0</td>\n",
       "      <td>2041</td>\n",
       "      <td>object</td>\n",
       "    </tr>\n",
       "    <tr>\n",
       "      <th>6</th>\n",
       "      <td>Nazwa ICD-10 poziom 3.</td>\n",
       "      <td>0</td>\n",
       "      <td>0.0</td>\n",
       "      <td>2041</td>\n",
       "      <td>object</td>\n",
       "    </tr>\n",
       "    <tr>\n",
       "      <th>7</th>\n",
       "      <td>Kod ICD-10 poziom 2.</td>\n",
       "      <td>0</td>\n",
       "      <td>0.0</td>\n",
       "      <td>264</td>\n",
       "      <td>object</td>\n",
       "    </tr>\n",
       "    <tr>\n",
       "      <th>8</th>\n",
       "      <td>Nazwa ICD-10 poziom 2.</td>\n",
       "      <td>0</td>\n",
       "      <td>0.0</td>\n",
       "      <td>264</td>\n",
       "      <td>object</td>\n",
       "    </tr>\n",
       "    <tr>\n",
       "      <th>9</th>\n",
       "      <td>Kod ICD-10 poziom 1.</td>\n",
       "      <td>0</td>\n",
       "      <td>0.0</td>\n",
       "      <td>23</td>\n",
       "      <td>object</td>\n",
       "    </tr>\n",
       "    <tr>\n",
       "      <th>10</th>\n",
       "      <td>Nazwa ICD-10 poziom 1.</td>\n",
       "      <td>0</td>\n",
       "      <td>0.0</td>\n",
       "      <td>23</td>\n",
       "      <td>object</td>\n",
       "    </tr>\n",
       "    <tr>\n",
       "      <th>11</th>\n",
       "      <td>Liczba porad AOS</td>\n",
       "      <td>0</td>\n",
       "      <td>0.0</td>\n",
       "      <td>15862</td>\n",
       "      <td>int64</td>\n",
       "    </tr>\n",
       "  </tbody>\n",
       "</table>\n",
       "</div>"
      ],
      "text/plain": [
       "               column_name  missing_values_total  missing_values_percent  \\\n",
       "0                      Rok                     0                     0.0   \n",
       "1              Województwo                     0                     0.0   \n",
       "2      Specjalność komórki                     0                     0.0   \n",
       "3            Grupa wiekowa                     0                     0.0   \n",
       "4                     Płeć                     0                     0.0   \n",
       "5     Kod ICD-10 poziom 3.                     0                     0.0   \n",
       "6   Nazwa ICD-10 poziom 3.                     0                     0.0   \n",
       "7     Kod ICD-10 poziom 2.                     0                     0.0   \n",
       "8   Nazwa ICD-10 poziom 2.                     0                     0.0   \n",
       "9     Kod ICD-10 poziom 1.                     0                     0.0   \n",
       "10  Nazwa ICD-10 poziom 1.                     0                     0.0   \n",
       "11        Liczba porad AOS                     0                     0.0   \n",
       "\n",
       "    unique_values_count data_type  \n",
       "0                     8     int64  \n",
       "1                    16    object  \n",
       "2                   163    object  \n",
       "3                     4    object  \n",
       "4                     2    object  \n",
       "5                  2041    object  \n",
       "6                  2041    object  \n",
       "7                   264    object  \n",
       "8                   264    object  \n",
       "9                    23    object  \n",
       "10                   23    object  \n",
       "11                15862     int64  "
      ]
     },
     "execution_count": 6,
     "metadata": {},
     "output_type": "execute_result"
    }
   ],
   "source": [
    "nan_analysis = analyze_dataframe(df_raw)\n",
    "nan_analysis"
   ]
  },
  {
   "cell_type": "code",
   "execution_count": 7,
   "metadata": {},
   "outputs": [],
   "source": [
    "col = \"Specjalność komórki\""
   ]
  },
  {
   "cell_type": "code",
   "execution_count": 8,
   "metadata": {},
   "outputs": [
    {
     "data": {
      "text/plain": [
       "array(['poradnia chorób zakaźnych', 'pracownia tomografii komputerowej',\n",
       "       'poradnia gastroenterologiczna', 'poradnia gruźlicy i chorób płuc',\n",
       "       'poradnia chorób płuc', 'poradnia dermatologiczna',\n",
       "       'poradnia położniczo-ginekologiczna', 'poradnia chemioterapii',\n",
       "       'poradnia gruźlicy i chorób płuc dla dzieci',\n",
       "       'poradnia otorynolaryngologiczna', 'poradnia chirurgii ogólnej',\n",
       "       'poradnia chirurgii urazowo-ortopedycznej',\n",
       "       'pracownia rezonansu magnetycznego', 'poradnia ginekologiczna',\n",
       "       'poradnia chirurgii plastycznej', 'poradnia genetyczna',\n",
       "       'poradnia endokrynologiczna', 'poradnia neurologiczna',\n",
       "       'poradnia reumatologiczna', 'poradnia chorób zakaźnych dla dzieci',\n",
       "       'poradnia alergologiczna', 'poradnia onkologiczna',\n",
       "       'poradnia chirurgii szczękowo-twarzowej', 'poradnia okulistyczna',\n",
       "       'poradnia chirurgii ogólnej dla dzieci',\n",
       "       'poradnia chorób metabolicznych', 'poradnia hepatologiczna',\n",
       "       'poradnia wzw', 'poradnia profilaktyczno-lecznicza (hiv/aids)',\n",
       "       'poradnia chorób naczyń', 'poradnia patologii ciąży',\n",
       "       'poradnia radioterapii', 'poradnia chirurgii onkologicznej',\n",
       "       'poradnia leczenia bólu', 'poradnia transplantologiczna',\n",
       "       'poradnia ginekologii onkologicznej', 'poradnia proktologiczna',\n",
       "       'poradnia urologiczna', 'pracownia rentgenodiagnostyki ogólnej',\n",
       "       'pracownia endoskopii', 'poradnia hematologiczna',\n",
       "       'pracownia lub zakład medycyny nuklearnej',\n",
       "       'poradnia chirurgii klatki piersiowej',\n",
       "       'poradnia hematologiczna dla dzieci', 'poradnia neurochirurgiczna',\n",
       "       'poradnia audiologiczna', 'poradnia kardiologiczna',\n",
       "       'poradnia profilaktyki chorób piersi',\n",
       "       'poradnia neurologiczna dla dzieci', 'poradnia foniatryczna',\n",
       "       'poradnia kardiochirurgiczna',\n",
       "       'poradnia ginekologiczna dla dziewcząt', 'poradnia nefrologiczna',\n",
       "       'poradnia nefrologiczna dla dzieci', 'poradnia diabetologiczna',\n",
       "       'poradnia immunologiczna', 'poradnia endokrynologiczna dla dzieci',\n",
       "       'poradnia osteoporozy', 'poradnia diabetologiczna dla dzieci',\n",
       "       'poradnia gastroenterologiczna dla dzieci',\n",
       "       'poradnia reumatologiczna dla dzieci', 'poradnia wad serca',\n",
       "       'poradnia leczenia mukowiscydozy',\n",
       "       'poradnia urologiczna dla dzieci', 'poradnia logopedyczna',\n",
       "       'poradnia chirurgii naczyniowej', 'poradnia wad postawy',\n",
       "       'poradnia leczenia jaskry', 'poradnia alergologiczna dla dzieci',\n",
       "       'poradnia okulistyczna dla dzieci', 'poradnia leczenia zeza',\n",
       "       'poradnia otorynolaryngologiczna dla dzieci',\n",
       "       'poradnia kardiologiczna dla dzieci',\n",
       "       'poradnia nadciśnienia tętniczego', 'poradnia medycyny sportowej',\n",
       "       'poradnia endokrynologiczna osteoporozy', 'pracownia usg',\n",
       "       'poradnia transplantologiczna dla dzieci',\n",
       "       'poradnia chirurgii onkologicznej dla dzieci',\n",
       "       'poradnia geriatryczna', 'poradnia neonatologiczna',\n",
       "       'poradnia zaburzeń i wad rozwojowych dzieci',\n",
       "       'poradnia preluksacyjna', 'poradnia chorób płuc dla dzieci',\n",
       "       'poradnia dermatologiczna dla dzieci',\n",
       "       'pracownia diagnostyki obrazowej',\n",
       "       'poradnia onkologiczna dla dzieci', 'poradnia nowotworów krwi',\n",
       "       'poradnia immunologiczna dla dzieci',\n",
       "       'poradnia chorób metabolicznych dla dzieci',\n",
       "       'poradnia leczenia mukowiscydozy dla dzieci',\n",
       "       'poradnia zaopatrzenia ortopedycznego',\n",
       "       'poradnia audiologiczna dla dzieci',\n",
       "       'poradnia chirurgii urazowo-ortopedycznej dla dzieci',\n",
       "       'poradnia neurochirurgiczna dla dzieci',\n",
       "       'poradnia logopedyczna dla dzieci',\n",
       "       'inne pracownie diagnostyczne lub zabiegowe',\n",
       "       'pracownia rentgenodiagnostyki zabiegowej/pracownia radiologii zabiegowej',\n",
       "       'poradnia onkologii i hematologii dziecięcej',\n",
       "       'poradnia endokrynologiczno-ginekologiczna',\n",
       "       'poradnia foniatryczna dla dzieci', 'poradnia toksykologiczna',\n",
       "       'oddział leczenia jednego dnia', 'poradnia wenerologiczna',\n",
       "       'poradnia leczenia niepłodności', 'pracownia scyntygrafii',\n",
       "       'poradnia chorób tarczycy', 'poradnia gastrologiczna',\n",
       "       'poradnia andrologiczna',\n",
       "       'poradnia chirurgii plastycznej dla dzieci',\n",
       "       'poradnia kontroli rozruszników i kardiowerterów',\n",
       "       'poradnia hepatologiczna dla dzieci', 'poradnia leczenia oparzeń',\n",
       "       'pracownia tomografii komputerowej dla dzieci',\n",
       "       'poradnia kardiochirurgiczna dla dzieci',\n",
       "       'poradnia pediatryczna szczepień dla dzieci z grup wysokiego ryzyka',\n",
       "       'poradnia chirurgii stomatologicznej',\n",
       "       'oddział chorób wewnętrznych', 'oddział chirurgiczny ogólny',\n",
       "       'poradnia chorób odzwierzęcych i pasożytniczych',\n",
       "       'poradnia chorób odzwierzęcych i pasożytniczych dla dzieci',\n",
       "       'poradnia chorób tropikalnych',\n",
       "       'pracownia rezonansu magnetycznego dla dzieci',\n",
       "       'poradnia leczenia zeza dla dzieci', 'pracownie inne',\n",
       "       'pracownia diagnostyczna',\n",
       "       'poradnia chirurgii szczękowo-twarzowej dla dzieci',\n",
       "       'pracownia endoskopii dla dzieci',\n",
       "       'poradnia genetyczna dla dzieci', 'poradnia transplantacji nerek',\n",
       "       'oddział onkologii klinicznej/chemioterapii',\n",
       "       'oddział gastroenterologiczny dla dzieci',\n",
       "       'poradnia medycyny nuklearnej', 'oddział gastroenterologiczny',\n",
       "       'poradnia planowania rodziny i rozrodczości',\n",
       "       'poradnia chorób wewnętrznych',\n",
       "       'poradnia leczenia bólu dla dzieci',\n",
       "       'poradnia medycyny sportowej dla dzieci',\n",
       "       'poradnia okresu przekwitania',\n",
       "       'realizator zaopatrzenia w wyroby medyczne będące przedmiotami ortopedycznymi lub środkami pomocniczymi',\n",
       "       'poradnia endokrynologii i diabetologii dziecięcej',\n",
       "       'medyczne laboratorium diagnostyczne (laboratorium)',\n",
       "       'brak danych', 'poradnia medycyny paliatywnej',\n",
       "       'oddział kardiologiczny', 'gabinet diagnostyczno-zabiegowy',\n",
       "       'oddział okulistyczny',\n",
       "       'poradnia (gabinet) lekarza podstawowej opieki zdrowotnej',\n",
       "       'poradnia (gabinet) podstawowej opieki zdrowotnej',\n",
       "       'poradnia pediatryczna', 'mobilna pracownia badań diagnostycznych',\n",
       "       'ambulatorium okulistyczne', 'oddział neurologiczny',\n",
       "       'poradnia genetyczno-onkologiczna',\n",
       "       'poradnia (gabinet) pielęgniarki podstawowej opieki zdrowotnej',\n",
       "       'ambulatorium ogólne', 'oddział pediatryczny',\n",
       "       'pracownia genetyczna', 'dział (pracownia) fizjoterapii',\n",
       "       'inna i nieokreślona komórka działalności medycznej',\n",
       "       'poradnia zdrowia psychicznego',\n",
       "       'poradnia leczenia zespołu stopy cukrzycowej',\n",
       "       'oddział chorób płuc'], dtype=object)"
      ]
     },
     "execution_count": 8,
     "metadata": {},
     "output_type": "execute_result"
    }
   ],
   "source": [
    "df_raw[col].unique()"
   ]
  },
  {
   "cell_type": "markdown",
   "metadata": {},
   "source": [
    "# Filter dataframe"
   ]
  },
  {
   "cell_type": "code",
   "execution_count": 9,
   "metadata": {},
   "outputs": [],
   "source": [
    "speciality = \"poradnia okulistyczna\""
   ]
  },
  {
   "cell_type": "code",
   "execution_count": 10,
   "metadata": {},
   "outputs": [],
   "source": [
    "filter_dict = {col: speciality}\n",
    "df = filter_dataframe(df_raw, filter_dict=filter_dict)"
   ]
  },
  {
   "cell_type": "code",
   "execution_count": 11,
   "metadata": {},
   "outputs": [
    {
     "data": {
      "text/plain": [
       "(106253, 12)"
      ]
     },
     "execution_count": 11,
     "metadata": {},
     "output_type": "execute_result"
    }
   ],
   "source": [
    "df.shape"
   ]
  },
  {
   "cell_type": "markdown",
   "metadata": {},
   "source": [
    "# Save processed dataframe"
   ]
  },
  {
   "cell_type": "code",
   "execution_count": 18,
   "metadata": {},
   "outputs": [
    {
     "data": {
      "text/plain": [
       "WindowsPath('c:/Users/huber/OneDrive/Dokumenty/GitHub/mz_raport/data/processed/problemy_zdrowotne_icd10_poradnia_okulistyczna.csv')"
      ]
     },
     "execution_count": 18,
     "metadata": {},
     "output_type": "execute_result"
    }
   ],
   "source": [
    "file_path = Path(\n",
    "    DATA_DIR / \"processed\" / f\"{dataset_name}_{speciality.replace(' ', '_')}.csv\"\n",
    ")\n",
    "file_path"
   ]
  },
  {
   "cell_type": "code",
   "execution_count": 19,
   "metadata": {},
   "outputs": [
    {
     "name": "stdout",
     "output_type": "stream",
     "text": [
      "CSV file successfully written to: c:\\Users\\huber\\OneDrive\\Dokumenty\\GitHub\\mz_raport\\data\\processed\\problemy_zdrowotne_icd10_poradnia_okulistyczna.csv\n"
     ]
    }
   ],
   "source": [
    "write_csv(df, file_path)"
   ]
  }
 ],
 "metadata": {
  "kernelspec": {
   "display_name": "mz_raport",
   "language": "python",
   "name": "python3"
  },
  "language_info": {
   "codemirror_mode": {
    "name": "ipython",
    "version": 3
   },
   "file_extension": ".py",
   "mimetype": "text/x-python",
   "name": "python",
   "nbconvert_exporter": "python",
   "pygments_lexer": "ipython3",
   "version": "3.9.21"
  }
 },
 "nbformat": 4,
 "nbformat_minor": 2
}
