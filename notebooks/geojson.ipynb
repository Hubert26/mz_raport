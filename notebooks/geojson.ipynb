{
 "cells": [
  {
   "cell_type": "code",
   "execution_count": 6,
   "metadata": {},
   "outputs": [],
   "source": [
    "import sys\n",
    "from pathlib import Path\n",
    "import pandas as pd\n",
    "import geopandas as gpd\n",
    "from fuzzywuzzy import process\n",
    "\n",
    "# Add project root to Python path\n",
    "project_root = Path.cwd().parent\n",
    "if str(project_root) not in sys.path:\n",
    "    sys.path.append(str(project_root))\n",
    "\n",
    "# Import project paths\n",
    "from src.helpers.config import DATA_DIR\n",
    "from src.helpers.utils import read_csv"
   ]
  },
  {
   "cell_type": "markdown",
   "metadata": {},
   "source": [
    "# Convert wojewodztwa do GeoJSON"
   ]
  },
  {
   "cell_type": "code",
   "execution_count": null,
   "metadata": {},
   "outputs": [],
   "source": [
    "# Define the path to the shapefile\n",
    "shp_path = Path(DATA_DIR / \"geo_data\" / \"A01_Granice_wojewodztw.shp\")\n",
    "\n",
    "# Read the shapefile into a GeoDataFrame\n",
    "gdf = gpd.read_file(shp_path)\n",
    "\n",
    "# Check the structure of the data\n",
    "print(\"Preview of the shapefile data:\")\n",
    "print(gdf.head())\n",
    "\n",
    "# Define the output path for the GeoJSON file\n",
    "geojson_path = Path(DATA_DIR / \"wojewodztwa.geojson\")\n",
    "\n",
    "# Save the data to GeoJSON format\n",
    "gdf.to_file(geojson_path, driver=\"GeoJSON\")\n",
    "\n",
    "print(f\"File successfully saved as {geojson_path}\")\n"
   ]
  },
  {
   "cell_type": "code",
   "execution_count": 10,
   "metadata": {},
   "outputs": [],
   "source": [
    "# Load the shapefile containing the boundaries of Polish regions\n",
    "map = gpd.read_file(Path(DATA_DIR / \"wojewodztwa.geojson\"))\n",
    "name_mapping = {\n",
    "    \"maÅ\\x82opolskie\": \"małopolskie\",\n",
    "    \"Å\\x82Ã³dzkie\": \"łódzkie\",\n",
    "    \"dolnoÅ\\x9blÄ\\x85skie\": \"dolnośląskie\",\n",
    "    \"Å\\x9bwiÄ\\x99tokrzyskie\": \"świętokrzyskie\",\n",
    "    \"warmiÅ\\x84sko-mazurskie\": \"warmińsko-mazurskie\",\n",
    "    \"Å\\x9blÄ\\x85skie\": \"śląskie\",\n",
    "}\n",
    "\n",
    "# Replace incorrect names with correct ones\n",
    "map[\"JPT_NAZWA_\"] = map[\"JPT_NAZWA_\"].replace(name_mapping)\n",
    "map.to_file(Path(DATA_DIR / \"wojewodztwa.geojson\"), driver=\"GeoJSON\", encoding=\"utf-8\")\n"
   ]
  },
  {
   "cell_type": "markdown",
   "metadata": {},
   "source": [
    "# Convert powiaty do GeoJSON"
   ]
  },
  {
   "cell_type": "code",
   "execution_count": 63,
   "metadata": {},
   "outputs": [],
   "source": [
    "# Define the path to the shapefile\n",
    "shp_path = Path(DATA_DIR / \"geo_data\" / \"A02_Granice_powiatow.shp\")\n",
    "\n",
    "# Read the shapefile into a GeoDataFrame\n",
    "gdf = gpd.read_file(shp_path)\n",
    "\n",
    "# Define the output path for the GeoJSON file\n",
    "geojson_path = Path(DATA_DIR / \"powiaty.geojson\")\n",
    "\n",
    "# Save the data to GeoJSON format\n",
    "gdf.to_file(geojson_path, driver=\"GeoJSON\")\n",
    "\n",
    "with open(\n",
    "    Path(DATA_DIR / \"powiaty.geojson\"), \"r\", encoding=\"utf-8\", errors=\"replace\"\n",
    ") as f:\n",
    "    content = f.read()\n",
    "\n",
    "# Convert to correct encoding\n",
    "content = content.encode(\"latin1\").decode(\"utf-8\")\n",
    "\n",
    "# Save to as the same file\n",
    "with open(Path(DATA_DIR / \"powiaty.geojson\"), \"w\", encoding=\"utf-8\") as f:\n",
    "    f.write(content)\n"
   ]
  },
  {
   "cell_type": "code",
   "execution_count": 64,
   "metadata": {},
   "outputs": [],
   "source": [
    "# Load województwa GeoJSON\n",
    "wojewodztwa = gpd.read_file(Path(DATA_DIR / \"wojewodztwa.geojson\"))\n",
    "powiaty = gpd.read_file(Path(DATA_DIR / \"powiaty.geojson\"))\n",
    "\n",
    "# Ensure both datasets have the same CRS\n",
    "powiaty = powiaty.to_crs(wojewodztwa.crs)\n",
    "\n",
    "# Remove the 'index_right' column if it exists in either dataframe\n",
    "if \"index_right\" in powiaty.columns:\n",
    "    powiaty.drop(columns=[\"index_right\"], inplace=True)\n",
    "\n",
    "if \"index_right\" in wojewodztwa.columns:\n",
    "    wojewodztwa.drop(columns=[\"index_right\"], inplace=True)\n",
    "\n",
    "# Perform spatial join with suffixes to differentiate columns\n",
    "powiaty = gpd.sjoin(\n",
    "    powiaty,\n",
    "    wojewodztwa[[\"JPT_NAZWA_\", \"geometry\"]],\n",
    "    how=\"left\",\n",
    "    predicate=\"within\",\n",
    "    lsuffix=\"POW\",\n",
    "    rsuffix=\"WOJ\",\n",
    ")\n",
    "powiaty.columns = powiaty.columns.str.replace(\"__\", \"_\", regex=True)\n",
    "\n",
    "# Standardize names by converting to lowercase and removing leading spaces\n",
    "powiaty[\"JPT_NAZWA_POW\"] = (\n",
    "    powiaty[\"JPT_NAZWA_POW\"].str.lower().str.replace(\"powiat \", \"\").str.strip()\n",
    ")\n",
    "powiaty[\"JPT_NAZWA_WOJ\"] = powiaty[\"JPT_NAZWA_WOJ\"].str.lower().str.strip()\n",
    "\n",
    "# Save the cleaned data to GeoJSON format\n",
    "powiaty.to_file(Path(DATA_DIR / \"powiaty.geojson\"), driver=\"GeoJSON\", encoding=\"utf-8\")\n"
   ]
  },
  {
   "cell_type": "code",
   "execution_count": 23,
   "metadata": {},
   "outputs": [
    {
     "name": "stdout",
     "output_type": "stream",
     "text": [
      "Unmatched in clinic data: {'m. koszalin_zachodniopomorskie', 'pucki_pomorskie', 'm. gdynia_pomorskie', 'm. rzeszów_podkarpackie', 'm. katowice_śląskie', 'm. opole_opolskie', 'm. tarnów_małopolskie', 'm. lublin_lubelskie', 'm. chorzów_śląskie', 'm. bielsko-biała_śląskie', 'nowotarski_małopolskie', 'm. st. warszawa_mazowieckie', 'm. wrocław_dolnośląskie', 'm. sosnowiec_śląskie', 'm. świnoujście_zachodniopomorskie', 'kłodzki_dolnośląskie', 'm. ostrołęka_mazowieckie', 'żywiecki_śląskie', 'm. tarnobrzeg_podkarpackie', 'm. jastrzębie-zdrój_śląskie', 'm. zamość_lubelskie', 'm. łomża_podlaskie', 'm. leszno_wielkopolskie', 'm. tychy_śląskie', 'm. biała podlaska_lubelskie', 'tatrzański_małopolskie', 'm. kielce_świętokrzyskie', 'm. poznań_wielkopolskie', 'm. częstochowa_śląskie', 'm. bydgoszcz_kujawsko-pomorskie', 'm. toruń_kujawsko-pomorskie', 'm. słupsk_pomorskie', 'm. jelenia góra_dolnośląskie', 'm. skierniewice_łódzkie', 'm. sopot_pomorskie', 'm. jaworzno_śląskie', 'm. radom_mazowieckie', 'żagański_lubuskie', 'jeleniogórski_dolnośląskie', 'm. włocławek_kujawsko-pomorskie', 'm. siedlce_mazowieckie', 'm. wałbrzych_dolnośląskie', 'm. chełm_lubelskie', 'm. nowy sącz_małopolskie', 'prudnicki_opolskie', 'm. mysłowice_śląskie', 'm. gorzów wielkopolski_lubuskie', 'm. legnica_dolnośląskie', 'm. szczecin_zachodniopomorskie', 'zgorzelecki_dolnośląskie', 'm. suwałki_podlaskie', 'm. białystok_podlaskie', 'm. piekary śląskie_śląskie', 'm. przemyśl_podkarpackie', 'm. krosno_podkarpackie', 'mławski_mazowieckie', 'm. kalisz_wielkopolskie', 'm. elbląg_warmińsko-mazurskie', 'm. dąbrowa górnicza_śląskie', 'brzeski_opolskie', 'słupski_pomorskie', 'm. zabrze_śląskie', 'głubczycki_opolskie', 'm. bytom_śląskie', 'm. ruda śląska_śląskie', 'm. olsztyn_warmińsko-mazurskie', 'm. gdańsk_pomorskie', 'rawicki_wielkopolskie', 'gryficki_zachodniopomorskie', 'tomaszowski_lubelskie', 'm. rybnik_śląskie', 'm. łódź_łódzkie', 'wodzisławski_śląskie', 'm. żory_śląskie', 'm. piotrków trybunalski_łódzkie', 'm. gliwice_śląskie', 'm. grudziądz_kujawsko-pomorskie', 'm. zielona góra_lubuskie', 'm. płock_mazowieckie', 'm. świętochłowice_śląskie', 'm. konin_wielkopolskie', 'm. siemianowice śląskie_śląskie', 'm. kraków_małopolskie', 'milicki_dolnośląskie'}\n",
      "Unmatched in GeoJSON: {'krosno_podkarpackie', 'milicki', 'kłodzki', 'szczecin_zachodniopomorskie', 'piotrkowski_łódzkie', 'bielsko-biała_śląskie', 'prudnicki', 'suwałki_podlaskie', 'legnica_dolnośląskie', 'nowy sącz_małopolskie', 'elbląg_warmińsko-mazurskie', 'gliwice_śląskie', 'siedlce_mazowieckie', 'kielce_świętokrzyskie', 'żagański', 'dąbrowa górnicza_śląskie', 'pucki', 'ostrołęka_mazowieckie', 'brzeski', 'przemyśl_podkarpackie', 'tarnobrzeg_podkarpackie', 'świętochłowice_śląskie', 'jaworzno_śląskie', 'katowice_śląskie', 'mławski', 'leszno_wielkopolskie', 'karkonoski_dolnośląskie', 'kaliski_wielkopolskie', 'siedlecki_mazowieckie', 'tychy_śląskie', 'płock_mazowieckie', 'wałbrzych_dolnośląskie', 'włocławek_kujawsko-pomorskie', 'sosnowiec_śląskie', 'chełmski_lubelskie', 'skierniewice_łódzkie', 'łomża_podlaskie', 'piekary śląskie_śląskie', 'świnoujście', 'sopot_pomorskie', 'bytom_śląskie', 'zgorzelecki', 'poznań_wielkopolskie', 'leski_podkarpackie', 'kraków_małopolskie', 'skierniewicki_łódzkie', 'gryficki', 'bydgoszcz_kujawsko-pomorskie', 'lublin_lubelskie', 'jelenia góra_dolnośląskie', 'tarnów_małopolskie', 'biała podlaska_lubelskie', 'grudziądz_kujawsko-pomorskie', 'koniński_wielkopolskie', 'przemyski_podkarpackie', 'wrocław_dolnośląskie', 'słupski', 'wodzisławski', 'żory_śląskie', 'toruń_kujawsko-pomorskie', 'chorzów_śląskie', 'zabrze_śląskie', 'słupsk_pomorskie', 'siemianowice śląskie_śląskie', 'chełm_lubelskie', 'piotrków trybunalski_łódzkie', 'łomżyński_podlaskie', 'zamość_lubelskie', 'tomaszowski', 'gdynia_pomorskie', 'koszaliński_zachodniopomorskie', 'rybnik_śląskie', 'mysłowice_śląskie', 'gorzów wielkopolski_lubuskie', 'leszczyński_wielkopolskie', 'ostrołęcki_mazowieckie', 'gdańsk_pomorskie', 'jastrzębie-zdrój_śląskie', 'rzeszów_podkarpackie', 'tatrzański', 'białystok_podlaskie', 'olsztyn_warmińsko-mazurskie', 'warszawa_mazowieckie', 'łódź_łódzkie', 'kalisz_wielkopolskie', 'zielona góra_lubuskie', 'koszalin_zachodniopomorskie', 'radom_mazowieckie', 'nowotarski', 'suwalski_podlaskie', 'opole_opolskie', 'ruda śląska_śląskie', 'głubczycki', 'rawicki', 'włocławski_kujawsko-pomorskie', 'żywiecki', 'konin_wielkopolskie', 'częstochowa_śląskie'}\n",
      "\n",
      "Unmatched GeoJSON names:\n",
      "['milicki', 'kłodzki', 'piotrkowski_łódzkie', 'prudnicki', 'żagański', 'pucki', 'brzeski', 'mławski', 'karkonoski_dolnośląskie', 'kaliski_wielkopolskie', 'siedlecki_mazowieckie', 'chełmski_lubelskie', 'świnoujście', 'zgorzelecki', 'leski_podkarpackie', 'skierniewicki_łódzkie', 'gryficki', 'koniński_wielkopolskie', 'przemyski_podkarpackie', 'słupski', 'wodzisławski', 'łomżyński_podlaskie', 'tomaszowski', 'koszaliński_zachodniopomorskie', 'leszczyński_wielkopolskie', 'ostrołęcki_mazowieckie', 'tatrzański', 'nowotarski', 'suwalski_podlaskie', 'głubczycki', 'rawicki', 'włocławski_kujawsko-pomorskie', 'żywiecki', 'milicki', 'kłodzki', 'piotrkowski_łódzkie', 'prudnicki', 'żagański', 'pucki', 'brzeski', 'mławski', 'karkonoski_dolnośląskie', 'kaliski_wielkopolskie', 'siedlecki_mazowieckie', 'chełmski_lubelskie', 'świnoujście', 'zgorzelecki', 'leski_podkarpackie', 'skierniewicki_łódzkie', 'gryficki', 'koniński_wielkopolskie', 'przemyski_podkarpackie', 'słupski', 'wodzisławski', 'łomżyński_podlaskie', 'tomaszowski', 'koszaliński_zachodniopomorskie', 'leszczyński_wielkopolskie', 'ostrołęcki_mazowieckie', 'tatrzański', 'nowotarski', 'suwalski_podlaskie', 'głubczycki', 'rawicki', 'włocławski_kujawsko-pomorskie', 'żywiecki']\n",
      "\n",
      "Unmatched Clinic names:\n",
      "['pucki_pomorskie', 'nowotarski_małopolskie', 'm. świnoujście_zachodniopomorskie', 'kłodzki_dolnośląskie', 'żywiecki_śląskie', 'tatrzański_małopolskie', 'm. słupsk_pomorskie', 'żagański_lubuskie', 'jeleniogórski_dolnośląskie', 'prudnicki_opolskie', 'zgorzelecki_dolnośląskie', 'mławski_mazowieckie', 'brzeski_opolskie', 'głubczycki_opolskie', 'rawicki_wielkopolskie', 'gryficki_zachodniopomorskie', 'tomaszowski_lubelskie', 'wodzisławski_śląskie', 'milicki_dolnośląskie']\n"
     ]
    }
   ],
   "source": [
    "# Load the shapefile containing the boundaries of Polish regions (powiaty)\n",
    "powiaty = gpd.read_file(Path(DATA_DIR / \"powiaty.geojson\"))\n",
    "\n",
    "# Load the processed data (example CSV file containing powiat and województwo names)\n",
    "df = pd.read_csv(Path(DATA_DIR / \"processed\" / \"swiad_pow_poradnia_okulistyczna.csv\"))\n",
    "\n",
    "df[\"Powiat\"] = df[\"Powiat\"].str.lower().str.strip()\n",
    "df[\"Województwo\"] = df[\"Województwo\"].str.lower().str.strip()\n",
    "\n",
    "# Create a combined name for matching\n",
    "powiaty[\"full_name\"] = powiaty[\"JPT_NAZWA_POW\"] + powiaty[\"JPT_NAZWA_WOJ\"].fillna(\n",
    "    \"\"\n",
    ").apply(lambda x: f\"_{x}\" if x else \"\")\n",
    "df[\"full_name\"] = df[\"Powiat\"] + df[\"Województwo\"].fillna(\"\").apply(\n",
    "    lambda x: f\"_{x}\" if x else \"\"\n",
    ")\n",
    "\n",
    "# Ensure all values in full_name columns are strings and handle NaN values\n",
    "powiaty[\"full_name\"] = powiaty[\"full_name\"].fillna(\"\").astype(str)\n",
    "df[\"full_name\"] = df[\"full_name\"].fillna(\"\").astype(str)\n",
    "\n",
    "# Compare unique names after standardization\n",
    "geo_json_unique = set(powiaty[\"full_name\"].unique())\n",
    "clinic_unique = set(df[\"full_name\"].unique())\n",
    "\n",
    "# Find unmatched names after standardization\n",
    "unmatched_clinic = clinic_unique - geo_json_unique\n",
    "unmatched_geo_json = geo_json_unique - clinic_unique\n",
    "\n",
    "print(\"Unmatched in clinic data:\", unmatched_clinic)\n",
    "print(\"Unmatched in GeoJSON:\", unmatched_geo_json)\n",
    "\n",
    "\n",
    "# Function to find best matches using fuzzy matching and return unmatched lists\n",
    "def create_mapping(geojson_list, clinic_list):\n",
    "    mapping = {}\n",
    "    unmatched_geojson = []\n",
    "    unmatched_clinic = list(clinic_list)  # Create a mutable copy of clinic list\n",
    "\n",
    "    for geojson_name in geojson_list:\n",
    "        best_match, score = process.extractOne(geojson_name, clinic_list)\n",
    "        if (\n",
    "            score > 90\n",
    "        ):  # Accept matches with a higher score threshold for better accuracy\n",
    "            mapping[geojson_name] = best_match\n",
    "            unmatched_clinic.remove(best_match)  # Remove matched clinic names\n",
    "        else:\n",
    "            mapping[geojson_name] = None\n",
    "            unmatched_geojson.append(geojson_name)\n",
    "\n",
    "    # Filter out None values from mapping to get unmatched GeoJSON names\n",
    "    unmatched_geojson += [k for k, v in mapping.items() if v is None]\n",
    "\n",
    "    return mapping, unmatched_geojson, unmatched_clinic\n",
    "\n",
    "\n",
    "# Create mapping between unmatched datasets\n",
    "powiat_mapping, unmatched_geojson, unmatched_clinic = create_mapping(\n",
    "    unmatched_geo_json, unmatched_clinic\n",
    ")\n",
    "\n",
    "print(\"\\nUnmatched GeoJSON names:\")\n",
    "print(unmatched_geojson)\n",
    "\n",
    "print(\"\\nUnmatched Clinic names:\")\n",
    "print(unmatched_clinic)"
   ]
  },
  {
   "cell_type": "code",
   "execution_count": 24,
   "metadata": {},
   "outputs": [],
   "source": [
    "# Manual correction for unmatched powiat\n",
    "powiat_mapping.update(\n",
    "    {\n",
    "        \"piotrkowski_łódzkie\": \"m. piotrków trybunalski_łódzkie\",\n",
    "        \"karkonoski_dolnośląskie\": \"jeleniogórski_dolnośląskie\",\n",
    "        \"kaliski_wielkopolskie\": \"m. kalisz_wielkopolskie\",\n",
    "        \"siedlecki_mazowieckie\": \"m. siedlce_mazowieckie\",\n",
    "        \"chełmski_lubelskie\": \"m. chełm_lubelskie\",\n",
    "        \"leski_podkarpackie\": \"m. lesko_podkarpackie\",  # Lack data in clinic\n",
    "        \"skierniewicki_łódzkie\": \"m. skierniewice_łódzkie\",\n",
    "        \"koniński_wielkopolskie\": \"m. konin_wielkopolskie\",\n",
    "        \"przemyski_podkarpackie\": \"m. przemyśl_podkarpackie\",\n",
    "        \"łomżyński_podlaskie\": \"m. łomża_podlaskie\",\n",
    "        \"koszaliński_zachodniopomorskie\": \"m. koszalin_zachodniopomorskie\",\n",
    "        \"leszczyński_wielkopolskie\": \"m. leszno_wielkopolskie\",\n",
    "        \"ostrołęcki_mazowieckie\": \"m. ostrołęka_mazowieckie\",\n",
    "        \"suwalski_podlaskie\": \"m. suwałki_podlaskie\",\n",
    "        \"włocławski_kujawsko-pomorskie\": \"m. włocławek_kujawsko-pomorskie\",\n",
    "        \"żagański_lubuskie\": \"żagański_lubuskie\",\n",
    "        \"prudnicki_opolskie\": \"prudnicki_opolskie\",\n",
    "        \"głubczycki_opolskie\": \"głubczycki_opolskie\",\n",
    "        \"rawicki_wielkopolskie\": \"rawicki_wielkopolskie\",\n",
    "        \"gryficki_zachodniopomorskie\": \"gryficki_zachodniopomorskie\",\n",
    "        \"tomaszowski_lubelskie\": \"tomaszowski_lubelskie\",\n",
    "        \"milicki_dolnośląskie\": \"milicki_dolnośląskie\",\n",
    "        \"kłodzki\": \"kłodzki_dolnośląskie\",\n",
    "        \"milicki\": \"milicki_dolnośląskie\",\n",
    "        \"zgorzelecki\": \"zgorzelecki_dolnośląskie\",\n",
    "        \"tomaszowski\": \"tomaszowski_lubelskie\",\n",
    "        \"żagański\": \"żagański_lubuskie\",\n",
    "        \"mławski\": \"mławski_mazowieckie\",\n",
    "        \"nowotarski\": \"nowotarski_małopolskie\",\n",
    "        \"tatrzański\": \"tatrzański_małopolskie\",\n",
    "        \"brzeski\": \"brzeski_opolskie\",\n",
    "        \"głubczycki\": \"głubczycki_opolskie\",\n",
    "        \"prudnicki\": \"prudnicki_opolskie\",\n",
    "        \"słupski\": \"m. słupsk_pomorskie\",\n",
    "        \"pucki\": \"pucki_pomorskie\",\n",
    "        \"rawicki\": \"rawicki_wielkopolskie\",\n",
    "        \"gryficki\": \"gryficki_zachodniopomorskie\",\n",
    "        \"świnoujście\": \"m. świnoujście_zachodniopomorskie\",\n",
    "        \"wodzisławski\": \"wodzisławski_śląskie\",\n",
    "        \"żywiecki\": \"żywiecki_śląskie\",\n",
    "    }\n",
    ")\n",
    "\n",
    "# Apply mapping to the GeoDataFrame\n",
    "powiaty[\"full_name\"] = (\n",
    "    powiaty[\"full_name\"].map(powiat_mapping).fillna(powiaty[\"full_name\"])\n",
    ")\n",
    "\n",
    "# Save the updated mapping to a new file\n",
    "powiaty.to_file(Path(DATA_DIR / \"powiaty_mapped.geojson\"), driver=\"GeoJSON\")"
   ]
  },
  {
   "cell_type": "code",
   "execution_count": 25,
   "metadata": {},
   "outputs": [
    {
     "data": {
      "text/plain": [
       "array([], dtype=object)"
      ]
     },
     "execution_count": 25,
     "metadata": {},
     "output_type": "execute_result"
    }
   ],
   "source": [
    "# Identify entries in df that are not in powiaty\n",
    "clinic_missing_entries = df[~df[\"full_name\"].isin(powiaty[\"full_name\"])]\n",
    "clinic_missing_entries[\"full_name\"].unique()"
   ]
  },
  {
   "cell_type": "code",
   "execution_count": 26,
   "metadata": {},
   "outputs": [
    {
     "data": {
      "text/plain": [
       "array(['m. lesko_podkarpackie'], dtype=object)"
      ]
     },
     "execution_count": 26,
     "metadata": {},
     "output_type": "execute_result"
    }
   ],
   "source": [
    "# Identify entries in df that are not in powiaty\n",
    "powiaty_missing_entries = powiaty[~powiaty[\"full_name\"].isin(df[\"full_name\"])]\n",
    "powiaty_missing_entries[\"full_name\"].unique()"
   ]
  },
  {
   "cell_type": "code",
   "execution_count": 33,
   "metadata": {},
   "outputs": [
    {
     "data": {
      "text/plain": [
       "(356,)"
      ]
     },
     "execution_count": 33,
     "metadata": {},
     "output_type": "execute_result"
    }
   ],
   "source": [
    "df[\"Powiat\"].unique().shape"
   ]
  },
  {
   "cell_type": "code",
   "execution_count": 35,
   "metadata": {},
   "outputs": [
    {
     "data": {
      "text/plain": [
       "(367,)"
      ]
     },
     "execution_count": 35,
     "metadata": {},
     "output_type": "execute_result"
    }
   ],
   "source": [
    "powiaty[\"full_name\"].unique().shape"
   ]
  },
  {
   "cell_type": "code",
   "execution_count": 36,
   "metadata": {},
   "outputs": [
    {
     "name": "stdout",
     "output_type": "stream",
     "text": [
      "95    POLYGON ((20.30409 54.3474, 20.30413 54.34744,...\n",
      "Name: geometry, dtype: geometry\n"
     ]
    }
   ],
   "source": [
    "print(powiaty[powiaty[\"full_name\"] == \"bartoszycki_warmińsko-mazurskie\"][\"geometry\"])\n"
   ]
  }
 ],
 "metadata": {
  "kernelspec": {
   "display_name": "mz_raport",
   "language": "python",
   "name": "python3"
  },
  "language_info": {
   "codemirror_mode": {
    "name": "ipython",
    "version": 3
   },
   "file_extension": ".py",
   "mimetype": "text/x-python",
   "name": "python",
   "nbconvert_exporter": "python",
   "pygments_lexer": "ipython3",
   "version": "3.9.21"
  }
 },
 "nbformat": 4,
 "nbformat_minor": 2
}
