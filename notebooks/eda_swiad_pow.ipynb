{
 "cells": [
  {
   "cell_type": "code",
   "execution_count": 1,
   "metadata": {},
   "outputs": [],
   "source": [
    "import sys\n",
    "from pathlib import Path\n",
    "\n",
    "# Add project root to Python path\n",
    "project_root = Path.cwd().parent\n",
    "if str(project_root) not in sys.path:\n",
    "    sys.path.append(str(project_root))\n",
    "\n",
    "# Import project paths\n",
    "from src.helpers.config import DATA_DIR\n",
    "from src.helpers.utils import (\n",
    "    get_files_paths,\n",
    "    load_files,\n",
    "    filter_dataframe,\n",
    "    analyze_dataframe,\n",
    "    write_csv,\n",
    ")"
   ]
  },
  {
   "cell_type": "markdown",
   "metadata": {},
   "source": [
    "# Load dataframe"
   ]
  },
  {
   "cell_type": "code",
   "execution_count": 2,
   "metadata": {},
   "outputs": [],
   "source": [
    "dataset_name = \"swiad_pow\""
   ]
  },
  {
   "cell_type": "code",
   "execution_count": 3,
   "metadata": {},
   "outputs": [],
   "source": [
    "file_paths = get_files_paths(Path(DATA_DIR / \"raw\"), dataset_name, \"csv\")\n",
    "df_raw = load_files(file_paths)"
   ]
  },
  {
   "cell_type": "markdown",
   "metadata": {},
   "source": [
    "# Analyze dataframe"
   ]
  },
  {
   "cell_type": "code",
   "execution_count": 4,
   "metadata": {},
   "outputs": [
    {
     "data": {
      "text/plain": [
       "(75608, 9)"
      ]
     },
     "execution_count": 4,
     "metadata": {},
     "output_type": "execute_result"
    }
   ],
   "source": [
    "df_raw.shape"
   ]
  },
  {
   "cell_type": "code",
   "execution_count": 5,
   "metadata": {},
   "outputs": [
    {
     "data": {
      "text/html": [
       "<div>\n",
       "<style scoped>\n",
       "    .dataframe tbody tr th:only-of-type {\n",
       "        vertical-align: middle;\n",
       "    }\n",
       "\n",
       "    .dataframe tbody tr th {\n",
       "        vertical-align: top;\n",
       "    }\n",
       "\n",
       "    .dataframe thead th {\n",
       "        text-align: right;\n",
       "    }\n",
       "</style>\n",
       "<table border=\"1\" class=\"dataframe\">\n",
       "  <thead>\n",
       "    <tr style=\"text-align: right;\">\n",
       "      <th></th>\n",
       "      <th>Rok</th>\n",
       "      <th>Województwo</th>\n",
       "      <th>Powiat</th>\n",
       "      <th>Populacja</th>\n",
       "      <th>Specjalność komórki</th>\n",
       "      <th>Liczba porad AOS</th>\n",
       "      <th>Liczba porad AOS/1 tys. mieszk.</th>\n",
       "      <th>Liczba poradni AOS</th>\n",
       "      <th>Liczba poradni AOS/10 tys. mieszk.</th>\n",
       "    </tr>\n",
       "  </thead>\n",
       "  <tbody>\n",
       "    <tr>\n",
       "      <th>0</th>\n",
       "      <td>2016</td>\n",
       "      <td>dolnośląskie</td>\n",
       "      <td>bolesławiecki</td>\n",
       "      <td>90180</td>\n",
       "      <td>poradnia chirurgii ogólnej</td>\n",
       "      <td>21082</td>\n",
       "      <td>233.78</td>\n",
       "      <td>1</td>\n",
       "      <td>0.11</td>\n",
       "    </tr>\n",
       "    <tr>\n",
       "      <th>1</th>\n",
       "      <td>2016</td>\n",
       "      <td>dolnośląskie</td>\n",
       "      <td>bolesławiecki</td>\n",
       "      <td>90180</td>\n",
       "      <td>poradnia chirurgii urazowo-ortopedycznej</td>\n",
       "      <td>7961</td>\n",
       "      <td>88.28</td>\n",
       "      <td>2</td>\n",
       "      <td>0.22</td>\n",
       "    </tr>\n",
       "  </tbody>\n",
       "</table>\n",
       "</div>"
      ],
      "text/plain": [
       "    Rok   Województwo         Powiat  Populacja  \\\n",
       "0  2016  dolnośląskie  bolesławiecki      90180   \n",
       "1  2016  dolnośląskie  bolesławiecki      90180   \n",
       "\n",
       "                        Specjalność komórki  Liczba porad AOS  \\\n",
       "0                poradnia chirurgii ogólnej             21082   \n",
       "1  poradnia chirurgii urazowo-ortopedycznej              7961   \n",
       "\n",
       "   Liczba porad AOS/1 tys. mieszk.  Liczba poradni AOS  \\\n",
       "0                           233.78                   1   \n",
       "1                            88.28                   2   \n",
       "\n",
       "   Liczba poradni AOS/10 tys. mieszk.  \n",
       "0                                0.11  \n",
       "1                                0.22  "
      ]
     },
     "execution_count": 5,
     "metadata": {},
     "output_type": "execute_result"
    }
   ],
   "source": [
    "df_raw.head(2)"
   ]
  },
  {
   "cell_type": "code",
   "execution_count": 6,
   "metadata": {},
   "outputs": [
    {
     "data": {
      "text/html": [
       "<div>\n",
       "<style scoped>\n",
       "    .dataframe tbody tr th:only-of-type {\n",
       "        vertical-align: middle;\n",
       "    }\n",
       "\n",
       "    .dataframe tbody tr th {\n",
       "        vertical-align: top;\n",
       "    }\n",
       "\n",
       "    .dataframe thead th {\n",
       "        text-align: right;\n",
       "    }\n",
       "</style>\n",
       "<table border=\"1\" class=\"dataframe\">\n",
       "  <thead>\n",
       "    <tr style=\"text-align: right;\">\n",
       "      <th></th>\n",
       "      <th>column_name</th>\n",
       "      <th>missing_values_total</th>\n",
       "      <th>missing_values_percent</th>\n",
       "      <th>unique_values_count</th>\n",
       "      <th>data_type</th>\n",
       "    </tr>\n",
       "  </thead>\n",
       "  <tbody>\n",
       "    <tr>\n",
       "      <th>0</th>\n",
       "      <td>Rok</td>\n",
       "      <td>0</td>\n",
       "      <td>0.0</td>\n",
       "      <td>8</td>\n",
       "      <td>int64</td>\n",
       "    </tr>\n",
       "    <tr>\n",
       "      <th>1</th>\n",
       "      <td>Województwo</td>\n",
       "      <td>0</td>\n",
       "      <td>0.0</td>\n",
       "      <td>16</td>\n",
       "      <td>object</td>\n",
       "    </tr>\n",
       "    <tr>\n",
       "      <th>2</th>\n",
       "      <td>Powiat</td>\n",
       "      <td>0</td>\n",
       "      <td>0.0</td>\n",
       "      <td>368</td>\n",
       "      <td>object</td>\n",
       "    </tr>\n",
       "    <tr>\n",
       "      <th>3</th>\n",
       "      <td>Populacja</td>\n",
       "      <td>0</td>\n",
       "      <td>0.0</td>\n",
       "      <td>2983</td>\n",
       "      <td>int64</td>\n",
       "    </tr>\n",
       "    <tr>\n",
       "      <th>4</th>\n",
       "      <td>Specjalność komórki</td>\n",
       "      <td>0</td>\n",
       "      <td>0.0</td>\n",
       "      <td>163</td>\n",
       "      <td>object</td>\n",
       "    </tr>\n",
       "    <tr>\n",
       "      <th>5</th>\n",
       "      <td>Liczba porad AOS</td>\n",
       "      <td>0</td>\n",
       "      <td>0.0</td>\n",
       "      <td>21397</td>\n",
       "      <td>int64</td>\n",
       "    </tr>\n",
       "    <tr>\n",
       "      <th>6</th>\n",
       "      <td>Liczba porad AOS/1 tys. mieszk.</td>\n",
       "      <td>0</td>\n",
       "      <td>0.0</td>\n",
       "      <td>21244</td>\n",
       "      <td>float64</td>\n",
       "    </tr>\n",
       "    <tr>\n",
       "      <th>7</th>\n",
       "      <td>Liczba poradni AOS</td>\n",
       "      <td>0</td>\n",
       "      <td>0.0</td>\n",
       "      <td>72</td>\n",
       "      <td>int64</td>\n",
       "    </tr>\n",
       "    <tr>\n",
       "      <th>8</th>\n",
       "      <td>Liczba poradni AOS/10 tys. mieszk.</td>\n",
       "      <td>0</td>\n",
       "      <td>0.0</td>\n",
       "      <td>177</td>\n",
       "      <td>float64</td>\n",
       "    </tr>\n",
       "  </tbody>\n",
       "</table>\n",
       "</div>"
      ],
      "text/plain": [
       "                          column_name  missing_values_total  \\\n",
       "0                                 Rok                     0   \n",
       "1                         Województwo                     0   \n",
       "2                              Powiat                     0   \n",
       "3                           Populacja                     0   \n",
       "4                 Specjalność komórki                     0   \n",
       "5                    Liczba porad AOS                     0   \n",
       "6     Liczba porad AOS/1 tys. mieszk.                     0   \n",
       "7                  Liczba poradni AOS                     0   \n",
       "8  Liczba poradni AOS/10 tys. mieszk.                     0   \n",
       "\n",
       "   missing_values_percent  unique_values_count data_type  \n",
       "0                     0.0                    8     int64  \n",
       "1                     0.0                   16    object  \n",
       "2                     0.0                  368    object  \n",
       "3                     0.0                 2983     int64  \n",
       "4                     0.0                  163    object  \n",
       "5                     0.0                21397     int64  \n",
       "6                     0.0                21244   float64  \n",
       "7                     0.0                   72     int64  \n",
       "8                     0.0                  177   float64  "
      ]
     },
     "execution_count": 6,
     "metadata": {},
     "output_type": "execute_result"
    }
   ],
   "source": [
    "nan_analysis = analyze_dataframe(df_raw)\n",
    "nan_analysis"
   ]
  },
  {
   "cell_type": "code",
   "execution_count": 7,
   "metadata": {},
   "outputs": [],
   "source": [
    "col = \"Specjalność komórki\""
   ]
  },
  {
   "cell_type": "code",
   "execution_count": 8,
   "metadata": {},
   "outputs": [
    {
     "data": {
      "text/plain": [
       "array(['poradnia chirurgii ogólnej',\n",
       "       'poradnia chirurgii urazowo-ortopedycznej',\n",
       "       'poradnia chorób zakaźnych', 'poradnia dermatologiczna',\n",
       "       'poradnia diabetologiczna', 'poradnia endokrynologiczna',\n",
       "       'poradnia gastroenterologiczna', 'poradnia gruźlicy i chorób płuc',\n",
       "       'poradnia kardiologiczna', 'poradnia logopedyczna',\n",
       "       'poradnia nadciśnienia tętniczego', 'poradnia neonatologiczna',\n",
       "       'poradnia neurologiczna', 'poradnia okulistyczna',\n",
       "       'poradnia onkologiczna', 'poradnia otorynolaryngologiczna',\n",
       "       'poradnia położniczo-ginekologiczna', 'poradnia reumatologiczna',\n",
       "       'poradnia urologiczna', 'pracownia endoskopii',\n",
       "       'pracownia tomografii komputerowej', 'poradnia alergologiczna',\n",
       "       'poradnia chirurgii onkologicznej', 'poradnia chorób płuc',\n",
       "       'poradnia foniatryczna', 'poradnia leczenia bólu',\n",
       "       'poradnia medycyny sportowej', 'poradnia neurologiczna dla dzieci',\n",
       "       'poradnia proktologiczna', 'pracownia rezonansu magnetycznego',\n",
       "       'poradnia audiologiczna', 'poradnia nefrologiczna',\n",
       "       'poradnia chirurgii ogólnej dla dzieci', 'poradnia preluksacyjna',\n",
       "       'poradnia okulistyczna dla dzieci',\n",
       "       'poradnia alergologiczna dla dzieci',\n",
       "       'poradnia leczenia mukowiscydozy',\n",
       "       'poradnia chirurgii naczyniowej', 'poradnia chirurgii plastycznej',\n",
       "       'poradnia neurochirurgiczna', 'poradnia chemioterapii',\n",
       "       'poradnia chorób naczyń', 'poradnia geriatryczna',\n",
       "       'poradnia kardiologiczna dla dzieci', 'poradnia leczenia zeza',\n",
       "       'poradnia osteoporozy',\n",
       "       'poradnia otorynolaryngologiczna dla dzieci',\n",
       "       'poradnia wad postawy', 'poradnia ginekologiczna dla dziewcząt',\n",
       "       'poradnia leczenia jaskry',\n",
       "       'pracownia rentgenodiagnostyki ogólnej',\n",
       "       'poradnia endokrynologiczna dla dzieci', 'poradnia hematologiczna',\n",
       "       'poradnia ginekologii onkologicznej',\n",
       "       'poradnia nefrologiczna dla dzieci', 'poradnia patologii ciąży',\n",
       "       'poradnia radioterapii', 'poradnia wzw',\n",
       "       'poradnia chirurgii klatki piersiowej',\n",
       "       'poradnia chirurgii onkologicznej dla dzieci',\n",
       "       'poradnia chirurgii szczękowo-twarzowej',\n",
       "       'poradnia chorób metabolicznych',\n",
       "       'poradnia chorób zakaźnych dla dzieci',\n",
       "       'poradnia diabetologiczna dla dzieci',\n",
       "       'poradnia endokrynologiczna osteoporozy',\n",
       "       'poradnia gastroenterologiczna dla dzieci', 'poradnia genetyczna',\n",
       "       'poradnia ginekologiczna',\n",
       "       'poradnia gruźlicy i chorób płuc dla dzieci',\n",
       "       'poradnia hematologiczna dla dzieci', 'poradnia hepatologiczna',\n",
       "       'poradnia immunologiczna', 'poradnia kardiochirurgiczna',\n",
       "       'poradnia profilaktyczno-lecznicza (hiv/aids)',\n",
       "       'poradnia profilaktyki chorób piersi',\n",
       "       'poradnia reumatologiczna dla dzieci',\n",
       "       'poradnia transplantologiczna',\n",
       "       'poradnia transplantologiczna dla dzieci',\n",
       "       'poradnia urologiczna dla dzieci', 'poradnia wad serca',\n",
       "       'poradnia zaburzeń i wad rozwojowych dzieci',\n",
       "       'pracownia lub zakład medycyny nuklearnej', 'pracownia usg',\n",
       "       'pracownia diagnostyki obrazowej',\n",
       "       'poradnia audiologiczna dla dzieci',\n",
       "       'poradnia chorób metabolicznych dla dzieci',\n",
       "       'poradnia chorób płuc dla dzieci',\n",
       "       'poradnia dermatologiczna dla dzieci',\n",
       "       'poradnia immunologiczna dla dzieci',\n",
       "       'poradnia leczenia mukowiscydozy dla dzieci',\n",
       "       'poradnia logopedyczna dla dzieci',\n",
       "       'poradnia neurochirurgiczna dla dzieci',\n",
       "       'poradnia nowotworów krwi', 'poradnia onkologiczna dla dzieci',\n",
       "       'poradnia zaopatrzenia ortopedycznego',\n",
       "       'poradnia chirurgii urazowo-ortopedycznej dla dzieci',\n",
       "       'poradnia endokrynologiczno-ginekologiczna',\n",
       "       'poradnia foniatryczna dla dzieci',\n",
       "       'poradnia onkologii i hematologii dziecięcej',\n",
       "       'poradnia toksykologiczna',\n",
       "       'pracownia rentgenodiagnostyki zabiegowej/pracownia radiologii zabiegowej',\n",
       "       'inne pracownie diagnostyczne lub zabiegowe',\n",
       "       'oddział leczenia jednego dnia',\n",
       "       'poradnia kontroli rozruszników i kardiowerterów',\n",
       "       'poradnia andrologiczna',\n",
       "       'poradnia chirurgii plastycznej dla dzieci',\n",
       "       'poradnia chorób tarczycy', 'poradnia leczenia niepłodności',\n",
       "       'poradnia wenerologiczna', 'pracownia scyntygrafii',\n",
       "       'poradnia gastrologiczna', 'poradnia hepatologiczna dla dzieci',\n",
       "       'poradnia kardiochirurgiczna dla dzieci',\n",
       "       'poradnia leczenia oparzeń',\n",
       "       'poradnia pediatryczna szczepień dla dzieci z grup wysokiego ryzyka',\n",
       "       'pracownia tomografii komputerowej dla dzieci',\n",
       "       'poradnia chirurgii stomatologicznej',\n",
       "       'oddział chirurgiczny ogólny', 'oddział chorób wewnętrznych',\n",
       "       'poradnia chorób odzwierzęcych i pasożytniczych',\n",
       "       'poradnia chorób odzwierzęcych i pasożytniczych dla dzieci',\n",
       "       'poradnia chorób tropikalnych',\n",
       "       'poradnia leczenia zeza dla dzieci',\n",
       "       'pracownia rezonansu magnetycznego dla dzieci', 'pracownie inne',\n",
       "       'poradnia chirurgii szczękowo-twarzowej dla dzieci',\n",
       "       'poradnia genetyczna dla dzieci', 'poradnia transplantacji nerek',\n",
       "       'pracownia diagnostyczna', 'pracownia endoskopii dla dzieci',\n",
       "       'oddział onkologii klinicznej/chemioterapii',\n",
       "       'oddział gastroenterologiczny dla dzieci',\n",
       "       'oddział gastroenterologiczny', 'poradnia chorób wewnętrznych',\n",
       "       'poradnia medycyny sportowej dla dzieci',\n",
       "       'poradnia leczenia bólu dla dzieci',\n",
       "       'poradnia planowania rodziny i rozrodczości',\n",
       "       'poradnia medycyny nuklearnej', 'poradnia okresu przekwitania',\n",
       "       'realizator zaopatrzenia w wyroby medyczne będące przedmiotami ortopedycznymi lub środkami pomocniczymi',\n",
       "       'poradnia endokrynologii i diabetologii dziecięcej',\n",
       "       'medyczne laboratorium diagnostyczne (laboratorium)',\n",
       "       'brak danych', 'poradnia medycyny paliatywnej',\n",
       "       'oddział kardiologiczny', 'gabinet diagnostyczno-zabiegowy',\n",
       "       'oddział okulistyczny',\n",
       "       'poradnia (gabinet) lekarza podstawowej opieki zdrowotnej',\n",
       "       'poradnia (gabinet) podstawowej opieki zdrowotnej',\n",
       "       'poradnia pediatryczna', 'mobilna pracownia badań diagnostycznych',\n",
       "       'ambulatorium okulistyczne', 'oddział neurologiczny',\n",
       "       'poradnia genetyczno-onkologiczna',\n",
       "       'poradnia (gabinet) pielęgniarki podstawowej opieki zdrowotnej',\n",
       "       'oddział pediatryczny', 'ambulatorium ogólne',\n",
       "       'pracownia genetyczna', 'dział (pracownia) fizjoterapii',\n",
       "       'inna i nieokreślona komórka działalności medycznej',\n",
       "       'poradnia zdrowia psychicznego',\n",
       "       'poradnia leczenia zespołu stopy cukrzycowej',\n",
       "       'oddział chorób płuc'], dtype=object)"
      ]
     },
     "execution_count": 8,
     "metadata": {},
     "output_type": "execute_result"
    }
   ],
   "source": [
    "df_raw[col].unique()"
   ]
  },
  {
   "cell_type": "markdown",
   "metadata": {},
   "source": [
    "# Filter dataframe"
   ]
  },
  {
   "cell_type": "code",
   "execution_count": 9,
   "metadata": {},
   "outputs": [],
   "source": [
    "speciality = \"poradnia okulistyczna\""
   ]
  },
  {
   "cell_type": "code",
   "execution_count": 10,
   "metadata": {},
   "outputs": [],
   "source": [
    "filter_dict = {col: speciality}\n",
    "df = filter_dataframe(df_raw, filter_dict=filter_dict)"
   ]
  },
  {
   "cell_type": "code",
   "execution_count": 11,
   "metadata": {},
   "outputs": [
    {
     "data": {
      "text/plain": [
       "(2864, 9)"
      ]
     },
     "execution_count": 11,
     "metadata": {},
     "output_type": "execute_result"
    }
   ],
   "source": [
    "df.shape"
   ]
  },
  {
   "cell_type": "code",
   "execution_count": 12,
   "metadata": {},
   "outputs": [
    {
     "data": {
      "text/html": [
       "<div>\n",
       "<style scoped>\n",
       "    .dataframe tbody tr th:only-of-type {\n",
       "        vertical-align: middle;\n",
       "    }\n",
       "\n",
       "    .dataframe tbody tr th {\n",
       "        vertical-align: top;\n",
       "    }\n",
       "\n",
       "    .dataframe thead th {\n",
       "        text-align: right;\n",
       "    }\n",
       "</style>\n",
       "<table border=\"1\" class=\"dataframe\">\n",
       "  <thead>\n",
       "    <tr style=\"text-align: right;\">\n",
       "      <th></th>\n",
       "      <th>column_name</th>\n",
       "      <th>missing_values_total</th>\n",
       "      <th>missing_values_percent</th>\n",
       "      <th>unique_values_count</th>\n",
       "      <th>data_type</th>\n",
       "    </tr>\n",
       "  </thead>\n",
       "  <tbody>\n",
       "    <tr>\n",
       "      <th>0</th>\n",
       "      <td>Rok</td>\n",
       "      <td>0</td>\n",
       "      <td>0.0</td>\n",
       "      <td>8</td>\n",
       "      <td>int64</td>\n",
       "    </tr>\n",
       "    <tr>\n",
       "      <th>1</th>\n",
       "      <td>Województwo</td>\n",
       "      <td>0</td>\n",
       "      <td>0.0</td>\n",
       "      <td>16</td>\n",
       "      <td>object</td>\n",
       "    </tr>\n",
       "    <tr>\n",
       "      <th>2</th>\n",
       "      <td>Powiat</td>\n",
       "      <td>0</td>\n",
       "      <td>0.0</td>\n",
       "      <td>356</td>\n",
       "      <td>object</td>\n",
       "    </tr>\n",
       "    <tr>\n",
       "      <th>3</th>\n",
       "      <td>Populacja</td>\n",
       "      <td>0</td>\n",
       "      <td>0.0</td>\n",
       "      <td>2825</td>\n",
       "      <td>int64</td>\n",
       "    </tr>\n",
       "    <tr>\n",
       "      <th>4</th>\n",
       "      <td>Specjalność komórki</td>\n",
       "      <td>0</td>\n",
       "      <td>0.0</td>\n",
       "      <td>1</td>\n",
       "      <td>object</td>\n",
       "    </tr>\n",
       "    <tr>\n",
       "      <th>5</th>\n",
       "      <td>Liczba porad AOS</td>\n",
       "      <td>0</td>\n",
       "      <td>0.0</td>\n",
       "      <td>2713</td>\n",
       "      <td>int64</td>\n",
       "    </tr>\n",
       "    <tr>\n",
       "      <th>6</th>\n",
       "      <td>Liczba porad AOS/1 tys. mieszk.</td>\n",
       "      <td>0</td>\n",
       "      <td>0.0</td>\n",
       "      <td>2720</td>\n",
       "      <td>float64</td>\n",
       "    </tr>\n",
       "    <tr>\n",
       "      <th>7</th>\n",
       "      <td>Liczba poradni AOS</td>\n",
       "      <td>0</td>\n",
       "      <td>0.0</td>\n",
       "      <td>53</td>\n",
       "      <td>int64</td>\n",
       "    </tr>\n",
       "    <tr>\n",
       "      <th>8</th>\n",
       "      <td>Liczba poradni AOS/10 tys. mieszk.</td>\n",
       "      <td>0</td>\n",
       "      <td>0.0</td>\n",
       "      <td>134</td>\n",
       "      <td>float64</td>\n",
       "    </tr>\n",
       "  </tbody>\n",
       "</table>\n",
       "</div>"
      ],
      "text/plain": [
       "                          column_name  missing_values_total  \\\n",
       "0                                 Rok                     0   \n",
       "1                         Województwo                     0   \n",
       "2                              Powiat                     0   \n",
       "3                           Populacja                     0   \n",
       "4                 Specjalność komórki                     0   \n",
       "5                    Liczba porad AOS                     0   \n",
       "6     Liczba porad AOS/1 tys. mieszk.                     0   \n",
       "7                  Liczba poradni AOS                     0   \n",
       "8  Liczba poradni AOS/10 tys. mieszk.                     0   \n",
       "\n",
       "   missing_values_percent  unique_values_count data_type  \n",
       "0                     0.0                    8     int64  \n",
       "1                     0.0                   16    object  \n",
       "2                     0.0                  356    object  \n",
       "3                     0.0                 2825     int64  \n",
       "4                     0.0                    1    object  \n",
       "5                     0.0                 2713     int64  \n",
       "6                     0.0                 2720   float64  \n",
       "7                     0.0                   53     int64  \n",
       "8                     0.0                  134   float64  "
      ]
     },
     "execution_count": 12,
     "metadata": {},
     "output_type": "execute_result"
    }
   ],
   "source": [
    "analyze_dataframe(df)"
   ]
  },
  {
   "cell_type": "markdown",
   "metadata": {},
   "source": [
    "# Save processed dataframe"
   ]
  },
  {
   "cell_type": "code",
   "execution_count": 13,
   "metadata": {},
   "outputs": [
    {
     "data": {
      "text/plain": [
       "WindowsPath('c:/Users/huber/OneDrive/Dokumenty/GitHub/mz_raport/data/processed/swiad_pow_poradnia_okulistyczna.csv')"
      ]
     },
     "execution_count": 13,
     "metadata": {},
     "output_type": "execute_result"
    }
   ],
   "source": [
    "file_path = Path(\n",
    "    DATA_DIR / \"processed\" / f\"{dataset_name}_{speciality.replace(' ', '_')}.csv\"\n",
    ")\n",
    "file_path"
   ]
  },
  {
   "cell_type": "code",
   "execution_count": 14,
   "metadata": {},
   "outputs": [
    {
     "name": "stdout",
     "output_type": "stream",
     "text": [
      "CSV file successfully written to: c:\\Users\\huber\\OneDrive\\Dokumenty\\GitHub\\mz_raport\\data\\processed\\swiad_pow_poradnia_okulistyczna.csv\n"
     ]
    }
   ],
   "source": [
    "write_csv(df, file_path)"
   ]
  }
 ],
 "metadata": {
  "kernelspec": {
   "display_name": "mz_raport",
   "language": "python",
   "name": "python3"
  },
  "language_info": {
   "codemirror_mode": {
    "name": "ipython",
    "version": 3
   },
   "file_extension": ".py",
   "mimetype": "text/x-python",
   "name": "python",
   "nbconvert_exporter": "python",
   "pygments_lexer": "ipython3",
   "version": "3.9.21"
  }
 },
 "nbformat": 4,
 "nbformat_minor": 2
}
