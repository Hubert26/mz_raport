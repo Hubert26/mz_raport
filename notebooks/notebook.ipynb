{
 "cells": [
  {
   "cell_type": "code",
   "execution_count": 8,
   "metadata": {},
   "outputs": [],
   "source": [
    "import sys\n",
    "from pathlib import Path\n",
    "\n",
    "# Add project root to Python path\n",
    "project_root = Path.cwd().parent\n",
    "if str(project_root) not in sys.path:\n",
    "    sys.path.append(str(project_root))\n",
    "\n",
    "# Import project paths\n",
    "from src.helpers.config import DATA_DIR, RESULTS_DIR, PLOTS_DIR"
   ]
  },
  {
   "cell_type": "code",
   "execution_count": 9,
   "metadata": {},
   "outputs": [
    {
     "name": "stdout",
     "output_type": "stream",
     "text": [
      "c:\\Users\\huber\\OneDrive\\Dokumenty\\GitHub\\mz_raport\\data\n",
      "c:\\Users\\huber\\OneDrive\\Dokumenty\\GitHub\\mz_raport\\results\n",
      "c:\\Users\\huber\\OneDrive\\Dokumenty\\GitHub\\mz_raport\\results\\plots\n"
     ]
    }
   ],
   "source": [
    "print(DATA_DIR)\n",
    "print(RESULTS_DIR)\n",
    "print(PLOTS_DIR)"
   ]
  }
 ],
 "metadata": {
  "kernelspec": {
   "display_name": "mz_raport",
   "language": "python",
   "name": "python3"
  },
  "language_info": {
   "codemirror_mode": {
    "name": "ipython",
    "version": 3
   },
   "file_extension": ".py",
   "mimetype": "text/x-python",
   "name": "python",
   "nbconvert_exporter": "python",
   "pygments_lexer": "ipython3",
   "version": "3.9.21"
  }
 },
 "nbformat": 4,
 "nbformat_minor": 2
}
